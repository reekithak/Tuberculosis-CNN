{
  "nbformat": 4,
  "nbformat_minor": 0,
  "metadata": {
    "colab": {
      "name": "Untitled8.ipynb",
      "provenance": [],
      "authorship_tag": "ABX9TyPCCyoP4CM1kJAlMoaEXGAH",
      "include_colab_link": true
    },
    "kernelspec": {
      "name": "python3",
      "display_name": "Python 3"
    },
    "accelerator": "GPU"
  },
  "cells": [
    {
      "cell_type": "markdown",
      "metadata": {
        "id": "view-in-github",
        "colab_type": "text"
      },
      "source": [
        "<a href=\"https://colab.research.google.com/github/reekithak/Tuberculosis-CNN/blob/master/New_segmentation_model.ipynb\" target=\"_parent\"><img src=\"https://colab.research.google.com/assets/colab-badge.svg\" alt=\"Open In Colab\"/></a>"
      ]
    },
    {
      "cell_type": "code",
      "metadata": {
        "id": "gsH7awnS6Grh",
        "colab_type": "code",
        "colab": {
          "base_uri": "https://localhost:8080/",
          "height": 35
        },
        "outputId": "0376d93a-960e-4bdd-8781-cf3a5257b79a"
      },
      "source": [
        "from google.colab import drive \n",
        "drive.mount('/content/gdirve')\n",
        "import os\n",
        "os.environ['KAGGLE_CONFIG_DIR'] = \"/content/gdirve/My Drive/Kaggle\"\n"
      ],
      "execution_count": 61,
      "outputs": [
        {
          "output_type": "stream",
          "text": [
            "Drive already mounted at /content/gdirve; to attempt to forcibly remount, call drive.mount(\"/content/gdirve\", force_remount=True).\n"
          ],
          "name": "stdout"
        }
      ]
    },
    {
      "cell_type": "code",
      "metadata": {
        "id": "fIjm-TJ_6HLm",
        "colab_type": "code",
        "colab": {}
      },
      "source": [
        "from numpy.random import seed\n",
        "seed(101)\n",
        "\n",
        "\n",
        "\n",
        "import pandas as pd\n",
        "import numpy as np\n",
        "\n",
        "import tensorflow\n",
        "\n",
        "from tensorflow.keras.models import Sequential\n",
        "from tensorflow.keras.layers import Dense, Dropout, Conv2D, MaxPooling2D, Flatten\n",
        "from tensorflow.keras.optimizers import Adam\n",
        "from tensorflow.keras.metrics import categorical_crossentropy\n",
        "from tensorflow.keras.preprocessing.image import ImageDataGenerator\n",
        "from tensorflow.keras.models import Model\n",
        "from tensorflow.keras.callbacks import EarlyStopping, ReduceLROnPlateau, ModelCheckpoint\n",
        "from tensorflow.keras.metrics import binary_accuracy\n",
        "\n",
        "import os\n",
        "import cv2\n",
        "\n",
        "import imageio\n",
        "import skimage\n",
        "import skimage.io\n",
        "import skimage.transform\n",
        "\n",
        "from sklearn.utils import shuffle\n",
        "from sklearn.metrics import confusion_matrix\n",
        "from sklearn.model_selection import train_test_split\n",
        "import itertools\n",
        "import shutil\n",
        "import matplotlib.pyplot as plt\n",
        "%matplotlib inline"
      ],
      "execution_count": 0,
      "outputs": []
    },
    {
      "cell_type": "code",
      "metadata": {
        "id": "Ere3p0FP6alh",
        "colab_type": "code",
        "colab": {}
      },
      "source": [
        "# Total number of images we want to have in each class\n",
        "NUM_AUG_IMAGES_WANTED = 1000 \n",
        "\n",
        "# We will resize the images\n",
        "IMAGE_HEIGHT = 96\n",
        "IMAGE_WIDTH = 96"
      ],
      "execution_count": 0,
      "outputs": []
    },
    {
      "cell_type": "code",
      "metadata": {
        "id": "mri40Nm_6kJ1",
        "colab_type": "code",
        "colab": {
          "base_uri": "https://localhost:8080/",
          "height": 52
        },
        "outputId": "caec27f0-c897-4ba7-ca1c-0cd6c3e644ab"
      },
      "source": [
        "%ls"
      ],
      "execution_count": 67,
      "outputs": [
        {
          "output_type": "stream",
          "text": [
            "\u001b[0m\u001b[01;34mChinaSet_AllFiles\u001b[0m/  model.h5     pulmonary-chest-xray-abnormalities.zip\n",
            "kaggle.json         \u001b[01;34mMontgomery\u001b[0m/\n"
          ],
          "name": "stdout"
        }
      ]
    },
    {
      "cell_type": "code",
      "metadata": {
        "id": "vDkqCoRL6fWA",
        "colab_type": "code",
        "colab": {
          "base_uri": "https://localhost:8080/",
          "height": 52
        },
        "outputId": "c81927d1-42e3-48d7-894f-77d71ee12033"
      },
      "source": [
        "print(len(os.listdir('/content/gdirve/My Drive/Kaggle/ChinaSet_AllFiles/ChinaSet_AllFiles/CXR_png')))\n",
        "print(len(os.listdir('/content/gdirve/My Drive/Kaggle/Montgomery/MontgomerySet/CXR_png')))\n"
      ],
      "execution_count": 68,
      "outputs": [
        {
          "output_type": "stream",
          "text": [
            "663\n",
            "139\n"
          ],
          "name": "stdout"
        }
      ]
    },
    {
      "cell_type": "code",
      "metadata": {
        "id": "S0TYSme06wZ3",
        "colab_type": "code",
        "colab": {}
      },
      "source": [
        "shen_image_list = os.listdir('/content/gdirve/My Drive/Kaggle/ChinaSet_AllFiles/ChinaSet_AllFiles/CXR_png')\n",
        "mont_image_list = os.listdir('/content/gdirve/My Drive/Kaggle/Montgomery/MontgomerySet/CXR_png')"
      ],
      "execution_count": 0,
      "outputs": []
    },
    {
      "cell_type": "code",
      "metadata": {
        "id": "nzi370Ez7Gs-",
        "colab_type": "code",
        "colab": {
          "base_uri": "https://localhost:8080/",
          "height": 52
        },
        "outputId": "7c25be8e-9087-45bd-d9d2-5b809cf3cf4e"
      },
      "source": [
        "# put the images into dataframes\n",
        "df_shen = pd.DataFrame(shen_image_list, columns=['image_id'])\n",
        "df_mont = pd.DataFrame(mont_image_list, columns=['image_id'])\n",
        "\n",
        "# remove the 'Thunbs.db' line\n",
        "df_shen = df_shen[df_shen['image_id'] != 'Thumbs.db']\n",
        "df_mont = df_mont[df_mont['image_id'] != 'Thumbs.db']\n",
        "\n",
        "# Reset the index or this will cause an error later\n",
        "df_shen.reset_index(inplace=True, drop=True)\n",
        "df_mont.reset_index(inplace=True, drop=True)\n",
        "\n",
        "print(df_shen.shape)\n",
        "print(df_mont.shape)"
      ],
      "execution_count": 70,
      "outputs": [
        {
          "output_type": "stream",
          "text": [
            "(662, 1)\n",
            "(138, 1)\n"
          ],
          "name": "stdout"
        }
      ]
    },
    {
      "cell_type": "code",
      "metadata": {
        "id": "ox95Qk_e7LnE",
        "colab_type": "code",
        "colab": {
          "base_uri": "https://localhost:8080/",
          "height": 194
        },
        "outputId": "99f7c0f0-6101-4bf4-9389-eec49d718845"
      },
      "source": [
        "df_shen.head()"
      ],
      "execution_count": 71,
      "outputs": [
        {
          "output_type": "execute_result",
          "data": {
            "text/html": [
              "<div>\n",
              "<style scoped>\n",
              "    .dataframe tbody tr th:only-of-type {\n",
              "        vertical-align: middle;\n",
              "    }\n",
              "\n",
              "    .dataframe tbody tr th {\n",
              "        vertical-align: top;\n",
              "    }\n",
              "\n",
              "    .dataframe thead th {\n",
              "        text-align: right;\n",
              "    }\n",
              "</style>\n",
              "<table border=\"1\" class=\"dataframe\">\n",
              "  <thead>\n",
              "    <tr style=\"text-align: right;\">\n",
              "      <th></th>\n",
              "      <th>image_id</th>\n",
              "    </tr>\n",
              "  </thead>\n",
              "  <tbody>\n",
              "    <tr>\n",
              "      <th>0</th>\n",
              "      <td>CHNCXR_0001_0.png</td>\n",
              "    </tr>\n",
              "    <tr>\n",
              "      <th>1</th>\n",
              "      <td>CHNCXR_0002_0.png</td>\n",
              "    </tr>\n",
              "    <tr>\n",
              "      <th>2</th>\n",
              "      <td>CHNCXR_0003_0.png</td>\n",
              "    </tr>\n",
              "    <tr>\n",
              "      <th>3</th>\n",
              "      <td>CHNCXR_0004_0.png</td>\n",
              "    </tr>\n",
              "    <tr>\n",
              "      <th>4</th>\n",
              "      <td>CHNCXR_0005_0.png</td>\n",
              "    </tr>\n",
              "  </tbody>\n",
              "</table>\n",
              "</div>"
            ],
            "text/plain": [
              "            image_id\n",
              "0  CHNCXR_0001_0.png\n",
              "1  CHNCXR_0002_0.png\n",
              "2  CHNCXR_0003_0.png\n",
              "3  CHNCXR_0004_0.png\n",
              "4  CHNCXR_0005_0.png"
            ]
          },
          "metadata": {
            "tags": []
          },
          "execution_count": 71
        }
      ]
    },
    {
      "cell_type": "code",
      "metadata": {
        "id": "kHkGsIdc7cA6",
        "colab_type": "code",
        "colab": {
          "base_uri": "https://localhost:8080/",
          "height": 194
        },
        "outputId": "9ecb2dd5-664d-4b93-c291-7f608768aa87"
      },
      "source": [
        "df_mont.head()\n"
      ],
      "execution_count": 72,
      "outputs": [
        {
          "output_type": "execute_result",
          "data": {
            "text/html": [
              "<div>\n",
              "<style scoped>\n",
              "    .dataframe tbody tr th:only-of-type {\n",
              "        vertical-align: middle;\n",
              "    }\n",
              "\n",
              "    .dataframe tbody tr th {\n",
              "        vertical-align: top;\n",
              "    }\n",
              "\n",
              "    .dataframe thead th {\n",
              "        text-align: right;\n",
              "    }\n",
              "</style>\n",
              "<table border=\"1\" class=\"dataframe\">\n",
              "  <thead>\n",
              "    <tr style=\"text-align: right;\">\n",
              "      <th></th>\n",
              "      <th>image_id</th>\n",
              "    </tr>\n",
              "  </thead>\n",
              "  <tbody>\n",
              "    <tr>\n",
              "      <th>0</th>\n",
              "      <td>MCUCXR_0001_0.png</td>\n",
              "    </tr>\n",
              "    <tr>\n",
              "      <th>1</th>\n",
              "      <td>MCUCXR_0002_0.png</td>\n",
              "    </tr>\n",
              "    <tr>\n",
              "      <th>2</th>\n",
              "      <td>MCUCXR_0003_0.png</td>\n",
              "    </tr>\n",
              "    <tr>\n",
              "      <th>3</th>\n",
              "      <td>MCUCXR_0004_0.png</td>\n",
              "    </tr>\n",
              "    <tr>\n",
              "      <th>4</th>\n",
              "      <td>MCUCXR_0005_0.png</td>\n",
              "    </tr>\n",
              "  </tbody>\n",
              "</table>\n",
              "</div>"
            ],
            "text/plain": [
              "            image_id\n",
              "0  MCUCXR_0001_0.png\n",
              "1  MCUCXR_0002_0.png\n",
              "2  MCUCXR_0003_0.png\n",
              "3  MCUCXR_0004_0.png\n",
              "4  MCUCXR_0005_0.png"
            ]
          },
          "metadata": {
            "tags": []
          },
          "execution_count": 72
        }
      ]
    },
    {
      "cell_type": "code",
      "metadata": {
        "id": "NFiVl89q7eKY",
        "colab_type": "code",
        "colab": {}
      },
      "source": [
        "# Function to select the 4th index from the end of the string (file name)\n",
        "# example: CHNCXR_0470_1.png --> 1 is the label, meaning TB is present.\n",
        "\n",
        "def extract_target(x):\n",
        "    target = int(x[-5])\n",
        "    if target == 0:\n",
        "        return 'Normal'\n",
        "    if target == 1:\n",
        "        return 'Tuberculosis'"
      ],
      "execution_count": 0,
      "outputs": []
    },
    {
      "cell_type": "code",
      "metadata": {
        "id": "DJ7GtQ307gLx",
        "colab_type": "code",
        "colab": {}
      },
      "source": [
        "df_shen['target'] = df_shen['image_id'].apply(extract_target)\n",
        "\n",
        "df_mont['target'] = df_mont['image_id'].apply(extract_target)"
      ],
      "execution_count": 0,
      "outputs": []
    },
    {
      "cell_type": "code",
      "metadata": {
        "id": "R0YoUaYK7iAi",
        "colab_type": "code",
        "colab": {
          "base_uri": "https://localhost:8080/",
          "height": 70
        },
        "outputId": "5a82ef79-8446-450f-c54e-d9cefc88ab35"
      },
      "source": [
        "# Shenzen Dataset\n",
        "\n",
        "df_shen['target'].value_counts()"
      ],
      "execution_count": 75,
      "outputs": [
        {
          "output_type": "execute_result",
          "data": {
            "text/plain": [
              "Tuberculosis    336\n",
              "Normal          326\n",
              "Name: target, dtype: int64"
            ]
          },
          "metadata": {
            "tags": []
          },
          "execution_count": 75
        }
      ]
    },
    {
      "cell_type": "code",
      "metadata": {
        "id": "32lzwqPS7kMK",
        "colab_type": "code",
        "colab": {
          "base_uri": "https://localhost:8080/",
          "height": 70
        },
        "outputId": "5e183fa9-9a45-4f19-f123-68e90384d5b1"
      },
      "source": [
        "# Montgomery Dataset\n",
        "\n",
        "df_mont['target'].value_counts()"
      ],
      "execution_count": 76,
      "outputs": [
        {
          "output_type": "execute_result",
          "data": {
            "text/plain": [
              "Normal          80\n",
              "Tuberculosis    58\n",
              "Name: target, dtype: int64"
            ]
          },
          "metadata": {
            "tags": []
          },
          "execution_count": 76
        }
      ]
    },
    {
      "cell_type": "code",
      "metadata": {
        "id": "g_UolfKe8JZC",
        "colab_type": "code",
        "colab": {}
      },
      "source": [
        "try:\n",
        "    from PIL import *\n",
        "except AttributeError: #module has no attribute ImageN\n",
        "    import Image\n",
        "    import ImageDraw\n",
        "    import ImageFont"
      ],
      "execution_count": 0,
      "outputs": []
    },
    {
      "cell_type": "code",
      "metadata": {
        "id": "saIptPG47lly",
        "colab_type": "code",
        "colab": {
          "base_uri": "https://localhost:8080/",
          "height": 35
        },
        "outputId": "3bc75891-59d9-4942-ffc6-7f6b6ea3f6ae"
      },
      "source": [
        "df_data = pd.concat([df_shen, df_mont], axis=0).reset_index(drop=True)\n",
        "\n",
        "df_data = shuffle(df_data)\n",
        "\n",
        "\n",
        "df_data.shape"
      ],
      "execution_count": 87,
      "outputs": [
        {
          "output_type": "execute_result",
          "data": {
            "text/plain": [
              "(800, 2)"
            ]
          },
          "metadata": {
            "tags": []
          },
          "execution_count": 87
        }
      ]
    },
    {
      "cell_type": "code",
      "metadata": {
        "id": "fJJuwNLg7vUA",
        "colab_type": "code",
        "colab": {}
      },
      "source": [
        "# Create a new column called 'labels' that maps the classes to binary values.\n",
        "df_data['labels'] = df_data['target'].map({'Normal':0, 'Tuberculosis':1})"
      ],
      "execution_count": 0,
      "outputs": []
    },
    {
      "cell_type": "code",
      "metadata": {
        "id": "SLGblfEp8eDT",
        "colab_type": "code",
        "colab": {
          "base_uri": "https://localhost:8080/",
          "height": 194
        },
        "outputId": "6b41a936-8505-4f9f-807a-03f9c0b108e5"
      },
      "source": [
        "df_data.head()"
      ],
      "execution_count": 89,
      "outputs": [
        {
          "output_type": "execute_result",
          "data": {
            "text/html": [
              "<div>\n",
              "<style scoped>\n",
              "    .dataframe tbody tr th:only-of-type {\n",
              "        vertical-align: middle;\n",
              "    }\n",
              "\n",
              "    .dataframe tbody tr th {\n",
              "        vertical-align: top;\n",
              "    }\n",
              "\n",
              "    .dataframe thead th {\n",
              "        text-align: right;\n",
              "    }\n",
              "</style>\n",
              "<table border=\"1\" class=\"dataframe\">\n",
              "  <thead>\n",
              "    <tr style=\"text-align: right;\">\n",
              "      <th></th>\n",
              "      <th>image_id</th>\n",
              "      <th>target</th>\n",
              "      <th>labels</th>\n",
              "    </tr>\n",
              "  </thead>\n",
              "  <tbody>\n",
              "    <tr>\n",
              "      <th>127</th>\n",
              "      <td>CHNCXR_0128_0.png</td>\n",
              "      <td>Normal</td>\n",
              "      <td>0</td>\n",
              "    </tr>\n",
              "    <tr>\n",
              "      <th>684</th>\n",
              "      <td>MCUCXR_0030_0.png</td>\n",
              "      <td>Normal</td>\n",
              "      <td>0</td>\n",
              "    </tr>\n",
              "    <tr>\n",
              "      <th>288</th>\n",
              "      <td>CHNCXR_0289_0.png</td>\n",
              "      <td>Normal</td>\n",
              "      <td>0</td>\n",
              "    </tr>\n",
              "    <tr>\n",
              "      <th>458</th>\n",
              "      <td>CHNCXR_0459_1.png</td>\n",
              "      <td>Tuberculosis</td>\n",
              "      <td>1</td>\n",
              "    </tr>\n",
              "    <tr>\n",
              "      <th>530</th>\n",
              "      <td>CHNCXR_0531_1.png</td>\n",
              "      <td>Tuberculosis</td>\n",
              "      <td>1</td>\n",
              "    </tr>\n",
              "  </tbody>\n",
              "</table>\n",
              "</div>"
            ],
            "text/plain": [
              "              image_id        target  labels\n",
              "127  CHNCXR_0128_0.png        Normal       0\n",
              "684  MCUCXR_0030_0.png        Normal       0\n",
              "288  CHNCXR_0289_0.png        Normal       0\n",
              "458  CHNCXR_0459_1.png  Tuberculosis       1\n",
              "530  CHNCXR_0531_1.png  Tuberculosis       1"
            ]
          },
          "metadata": {
            "tags": []
          },
          "execution_count": 89
        }
      ]
    },
    {
      "cell_type": "code",
      "metadata": {
        "id": "d2oJ_DAP9_lX",
        "colab_type": "code",
        "colab": {
          "base_uri": "https://localhost:8080/",
          "height": 52
        },
        "outputId": "22c754c2-2a7f-476e-c8c0-6e4f565213b2"
      },
      "source": [
        "# train_test_split\n",
        "\n",
        "y = df_data['labels']\n",
        "\n",
        "df_train, df_val = train_test_split(df_data, test_size=0.15, random_state=101, stratify=y)\n",
        "\n",
        "print(df_train.shape)\n",
        "print(df_val.shape)"
      ],
      "execution_count": 90,
      "outputs": [
        {
          "output_type": "stream",
          "text": [
            "(680, 3)\n",
            "(120, 3)\n"
          ],
          "name": "stdout"
        }
      ]
    },
    {
      "cell_type": "code",
      "metadata": {
        "id": "bM9NmVVQ-IZm",
        "colab_type": "code",
        "colab": {
          "base_uri": "https://localhost:8080/",
          "height": 70
        },
        "outputId": "2d01196a-0b53-4c92-ebbe-9cc0cf81206b"
      },
      "source": [
        "df_train['target'].value_counts()\n"
      ],
      "execution_count": 93,
      "outputs": [
        {
          "output_type": "execute_result",
          "data": {
            "text/plain": [
              "Normal          345\n",
              "Tuberculosis    335\n",
              "Name: target, dtype: int64"
            ]
          },
          "metadata": {
            "tags": []
          },
          "execution_count": 93
        }
      ]
    },
    {
      "cell_type": "code",
      "metadata": {
        "id": "qfPpu4BK-MmX",
        "colab_type": "code",
        "colab": {
          "base_uri": "https://localhost:8080/",
          "height": 70
        },
        "outputId": "db4e3490-dfe4-4840-ef72-65e0e1cf40a7"
      },
      "source": [
        "df_val['target'].value_counts()"
      ],
      "execution_count": 92,
      "outputs": [
        {
          "output_type": "execute_result",
          "data": {
            "text/plain": [
              "Normal          61\n",
              "Tuberculosis    59\n",
              "Name: target, dtype: int64"
            ]
          },
          "metadata": {
            "tags": []
          },
          "execution_count": 92
        }
      ]
    },
    {
      "cell_type": "code",
      "metadata": {
        "id": "-mfbUlyI-OY_",
        "colab_type": "code",
        "colab": {}
      },
      "source": [
        "\n",
        "# Create a new directory\n",
        "base_dir = 'base_dir'\n",
        "os.mkdir(base_dir)\n",
        "\n",
        "\n",
        "#[CREATE FOLDERS INSIDE THE BASE DIRECTORY]\n",
        "\n",
        "# now we create 2 folders inside 'base_dir':\n",
        "\n",
        "# train\n",
        "    # Normal\n",
        "    # Tuberculosis\n",
        "\n",
        "# val\n",
        "    # Normal\n",
        "    # Tuberculosis\n",
        "\n",
        "\n",
        "# create a path to 'base_dir' to which we will join the names of the new folders\n",
        "# train_dir\n",
        "train_dir = os.path.join(base_dir, 'train_dir')\n",
        "os.mkdir(train_dir)\n",
        "\n",
        "# val_dir\n",
        "val_dir = os.path.join(base_dir, 'val_dir')\n",
        "os.mkdir(val_dir)\n",
        "\n",
        "\n",
        "# [CREATE FOLDERS INSIDE THE TRAIN AND VALIDATION FOLDERS]\n",
        "# Inside each folder we create seperate folders for each class\n",
        "\n",
        "# create new folders inside train_dir\n",
        "Normal = os.path.join(train_dir, 'Normal')\n",
        "os.mkdir(Normal)\n",
        "Tuberculosis = os.path.join(train_dir, 'Tuberculosis')\n",
        "os.mkdir(Tuberculosis)\n",
        "\n",
        "\n",
        "# create new folders inside val_dir\n",
        "Normal = os.path.join(val_dir, 'Normal')\n",
        "os.mkdir(Normal)\n",
        "Tuberculosis = os.path.join(val_dir, 'Tuberculosis')\n",
        "os.mkdir(Tuberculosis)"
      ],
      "execution_count": 0,
      "outputs": []
    },
    {
      "cell_type": "code",
      "metadata": {
        "id": "srvupRqz-aEp",
        "colab_type": "code",
        "colab": {}
      },
      "source": [
        "# Set the image_id as the index in df_data\n",
        "df_data.set_index('image_id', inplace=True)"
      ],
      "execution_count": 0,
      "outputs": []
    },
    {
      "cell_type": "code",
      "metadata": {
        "id": "erhJ0UIV-c_x",
        "colab_type": "code",
        "colab": {}
      },
      "source": [
        "# Get a list of images in each of the two folders\n",
        "folder_1 = os.listdir('/content/gdirve/My Drive/Kaggle/ChinaSet_AllFiles/ChinaSet_AllFiles/CXR_png')\n",
        "folder_2 = os.listdir('/content/gdirve/My Drive/Kaggle/Montgomery/MontgomerySet/CXR_png')\n",
        "\n",
        "# Get a list of train and val images\n",
        "train_list = list(df_train['image_id'])\n",
        "val_list = list(df_val['image_id'])\n",
        "\n",
        "\n",
        "\n",
        "# Transfer the train images\n",
        "\n",
        "for image in train_list:\n",
        "    \n",
        "    fname = image\n",
        "    label = df_data.loc[image,'target']\n",
        "    \n",
        "    if fname in folder_1:\n",
        "        # source path to image\n",
        "        src = os.path.join('/content/gdirve/My Drive/Kaggle/ChinaSet_AllFiles/ChinaSet_AllFiles/CXR_png', fname)\n",
        "        # destination path to image\n",
        "        dst = os.path.join(train_dir, label, fname)\n",
        "        \n",
        "        image = cv2.imread(src)\n",
        "        image = cv2.resize(image, (IMAGE_HEIGHT, IMAGE_WIDTH))\n",
        "        # save the image at the destination\n",
        "        cv2.imwrite(dst, image)\n",
        "        #shutil.copyfile(src, dst)\n",
        "\n",
        "    if fname in folder_2:\n",
        "        # source path to image\n",
        "        src = os.path.join('/content/gdirve/My Drive/Kaggle/Montgomery/MontgomerySet/CXR_png', fname)\n",
        "        # destination path to image\n",
        "        dst = os.path.join(train_dir, label, fname)\n",
        "        \n",
        "        image = cv2.imread(src)\n",
        "        image = cv2.resize(image, (IMAGE_HEIGHT, IMAGE_WIDTH))\n",
        "        # save the image at the destination\n",
        "        cv2.imwrite(dst, image)\n",
        "        \n",
        "        # copy the image from the source to the destination\n",
        "        #shutil.copyfile(src, dst)\n",
        "\n",
        "\n",
        "# Transfer the val images\n",
        "\n",
        "for image in val_list:\n",
        "    \n",
        "    fname = image\n",
        "    label = df_data.loc[image,'target']\n",
        "    \n",
        "    if fname in folder_1:\n",
        "        # source path to image\n",
        "        src = os.path.join('/content/gdirve/My Drive/Kaggle/ChinaSet_AllFiles/ChinaSet_AllFiles/CXR_png', fname)\n",
        "        # destination path to image\n",
        "        dst = os.path.join(val_dir, label, fname)\n",
        "        \n",
        "        image = cv2.imread(src)\n",
        "        image = cv2.resize(image, (IMAGE_HEIGHT, IMAGE_WIDTH))\n",
        "        # save the image at the destination\n",
        "        cv2.imwrite(dst, image)\n",
        "        \n",
        "        # copy the image from the source to the destination\n",
        "        #shutil.copyfile(src, dst)\n",
        "\n",
        "    if fname in folder_2:\n",
        "        # source path to image\n",
        "        src = os.path.join('/content/gdirve/My Drive/Kaggle/Montgomery/MontgomerySet/CXR_png', fname)\n",
        "        # destination path to image\n",
        "        dst = os.path.join(val_dir, label, fname)\n",
        "        \n",
        "        image = cv2.imread(src)\n",
        "        image = cv2.resize(image, (IMAGE_HEIGHT, IMAGE_WIDTH))\n",
        "        # save the image at the destination\n",
        "        cv2.imwrite(dst, image)\n",
        "        \n",
        "        # copy the image from the source to the destination\n",
        "        #shutil.copyfile(src, dst)\n"
      ],
      "execution_count": 0,
      "outputs": []
    },
    {
      "cell_type": "code",
      "metadata": {
        "id": "CXNxWcrJ-hqZ",
        "colab_type": "code",
        "colab": {
          "base_uri": "https://localhost:8080/",
          "height": 52
        },
        "outputId": "73e8475a-c55e-40f7-d88b-dea746fe981b"
      },
      "source": [
        "print(len(os.listdir('base_dir/train_dir/Normal')))\n",
        "print(len(os.listdir('base_dir/train_dir/Tuberculosis')))\n"
      ],
      "execution_count": 100,
      "outputs": [
        {
          "output_type": "stream",
          "text": [
            "345\n",
            "335\n"
          ],
          "name": "stdout"
        }
      ]
    },
    {
      "cell_type": "code",
      "metadata": {
        "id": "kbcHf22I_nHk",
        "colab_type": "code",
        "colab": {
          "base_uri": "https://localhost:8080/",
          "height": 52
        },
        "outputId": "47fcede6-9bdd-429b-9dde-2ecd03fe9fff"
      },
      "source": [
        "print(len(os.listdir('base_dir/val_dir/Normal')))\n",
        "print(len(os.listdir('base_dir/val_dir/Tuberculosis')))"
      ],
      "execution_count": 101,
      "outputs": [
        {
          "output_type": "stream",
          "text": [
            "61\n",
            "59\n"
          ],
          "name": "stdout"
        }
      ]
    },
    {
      "cell_type": "code",
      "metadata": {
        "id": "gFM6wUhtBd0g",
        "colab_type": "code",
        "colab": {
          "base_uri": "https://localhost:8080/",
          "height": 52
        },
        "outputId": "f6989807-2797-4705-e463-368a58745624"
      },
      "source": [
        "class_list = ['Normal','Tuberculosis']\n",
        "\n",
        "for item in class_list:\n",
        "    \n",
        "    # We are creating temporary directories here because we delete these directories later.\n",
        "    # create a base dir\n",
        "    aug_dir = 'aug_dir'\n",
        "    os.mkdir(aug_dir)\n",
        "    # create a dir within the base dir to store images of the same class\n",
        "    img_dir = os.path.join(aug_dir, 'img_dir')\n",
        "    os.mkdir(img_dir)\n",
        "\n",
        "    # Choose a class\n",
        "    img_class = item\n",
        "\n",
        "    # list all images in that directory\n",
        "    img_list = os.listdir('base_dir/train_dir/' + img_class)\n",
        "\n",
        "    # Copy images from the class train dir to the img_dir e.g. class 'Normal'\n",
        "    for fname in img_list:\n",
        "            # source path to image\n",
        "            src = os.path.join('base_dir/train_dir/' + img_class, fname)\n",
        "            # destination path to image\n",
        "            dst = os.path.join(img_dir, fname)\n",
        "            # copy the image from the source to the destination\n",
        "            shutil.copyfile(src, dst)\n",
        "\n",
        "\n",
        "    # point to a dir containing the images and not to the images themselves\n",
        "    path = aug_dir\n",
        "    save_path = 'base_dir/train_dir/' + img_class\n",
        "\n",
        "    # Create a data generator\n",
        "    datagen = ImageDataGenerator(\n",
        "        rotation_range=10,\n",
        "        width_shift_range=0.1,\n",
        "        height_shift_range=0.1,\n",
        "        zoom_range=0.1,\n",
        "        horizontal_flip=True,\n",
        "        fill_mode='nearest')\n",
        "\n",
        "    batch_size = 50\n",
        "\n",
        "    aug_datagen = datagen.flow_from_directory(path,\n",
        "                                           save_to_dir=save_path,\n",
        "                                           save_format='png',\n",
        "                                                    target_size=(IMAGE_HEIGHT,IMAGE_WIDTH),\n",
        "                                                    batch_size=batch_size)\n",
        "    \n",
        "    \n",
        "    # Generate the augmented images and add them to the training folders\n",
        "    \n",
        "    \n",
        "    num_files = len(os.listdir(img_dir))\n",
        "    \n",
        "    # this creates a similar amount of images for each class\n",
        "    num_batches = int(np.ceil((NUM_AUG_IMAGES_WANTED-num_files)/batch_size))\n",
        "\n",
        "    # run the generator and create augmented images\n",
        "    for i in range(0,num_batches):\n",
        "\n",
        "        imgs, labels = next(aug_datagen)\n",
        "        \n",
        "    # delete temporary directory with the raw image files\n",
        "    shutil.rmtree('aug_dir')"
      ],
      "execution_count": 102,
      "outputs": [
        {
          "output_type": "stream",
          "text": [
            "Found 345 images belonging to 1 classes.\n",
            "Found 335 images belonging to 1 classes.\n"
          ],
          "name": "stdout"
        }
      ]
    },
    {
      "cell_type": "code",
      "metadata": {
        "id": "vvHVMRP7BgQ3",
        "colab_type": "code",
        "colab": {
          "base_uri": "https://localhost:8080/",
          "height": 52
        },
        "outputId": "423f3b22-041f-4923-f882-3561769978ab"
      },
      "source": [
        "print(len(os.listdir('base_dir/train_dir/Normal')))\n",
        "print(len(os.listdir('base_dir/train_dir/Tuberculosis')))"
      ],
      "execution_count": 103,
      "outputs": [
        {
          "output_type": "stream",
          "text": [
            "1035\n",
            "1005\n"
          ],
          "name": "stdout"
        }
      ]
    },
    {
      "cell_type": "code",
      "metadata": {
        "id": "R36KBLaSBlF3",
        "colab_type": "code",
        "colab": {
          "base_uri": "https://localhost:8080/",
          "height": 52
        },
        "outputId": "2a1ddb3e-909f-4baa-e378-b14cb08cb8ac"
      },
      "source": [
        "print(len(os.listdir('base_dir/val_dir/Normal')))\n",
        "print(len(os.listdir('base_dir/val_dir/Tuberculosis')))"
      ],
      "execution_count": 104,
      "outputs": [
        {
          "output_type": "stream",
          "text": [
            "61\n",
            "59\n"
          ],
          "name": "stdout"
        }
      ]
    },
    {
      "cell_type": "code",
      "metadata": {
        "id": "cv_YK3iHBrA2",
        "colab_type": "code",
        "colab": {}
      },
      "source": [
        "train_path = 'base_dir/train_dir'\n",
        "valid_path = 'base_dir/val_dir'\n",
        "\n",
        "num_train_samples = len(df_train)\n",
        "num_val_samples = len(df_val)\n",
        "train_batch_size = 10\n",
        "val_batch_size = 10\n",
        "\n",
        "\n",
        "train_steps = np.ceil(num_train_samples / train_batch_size)\n",
        "val_steps = np.ceil(num_val_samples / val_batch_size)"
      ],
      "execution_count": 0,
      "outputs": []
    },
    {
      "cell_type": "code",
      "metadata": {
        "id": "S8TXKxm4Btyi",
        "colab_type": "code",
        "colab": {
          "base_uri": "https://localhost:8080/",
          "height": 70
        },
        "outputId": "3c54c1f0-262d-4d58-a312-2383ee974f10"
      },
      "source": [
        "datagen = ImageDataGenerator(rescale=1.0/255)\n",
        "\n",
        "train_gen = datagen.flow_from_directory(train_path,\n",
        "                                        target_size=(IMAGE_HEIGHT,IMAGE_WIDTH),\n",
        "                                        batch_size=train_batch_size,\n",
        "                                        class_mode='categorical')\n",
        "\n",
        "val_gen = datagen.flow_from_directory(valid_path,\n",
        "                                        target_size=(IMAGE_HEIGHT,IMAGE_WIDTH),\n",
        "                                        batch_size=val_batch_size,\n",
        "                                        class_mode='categorical')\n",
        "\n",
        "# Note: shuffle=False causes the test dataset to not be shuffled\n",
        "test_gen = datagen.flow_from_directory(valid_path,\n",
        "                                        target_size=(IMAGE_HEIGHT,IMAGE_WIDTH),\n",
        "                                        batch_size=val_batch_size,\n",
        "                                        class_mode='categorical',\n",
        "                                        shuffle=False)\n"
      ],
      "execution_count": 110,
      "outputs": [
        {
          "output_type": "stream",
          "text": [
            "Found 2040 images belonging to 2 classes.\n",
            "Found 120 images belonging to 2 classes.\n",
            "Found 120 images belonging to 2 classes.\n"
          ],
          "name": "stdout"
        }
      ]
    },
    {
      "cell_type": "code",
      "metadata": {
        "id": "LOsPS9soCBDX",
        "colab_type": "code",
        "colab": {
          "base_uri": "https://localhost:8080/",
          "height": 835
        },
        "outputId": "4e23253b-55ed-4551-dffa-321891cc187d"
      },
      "source": [
        "kernel_size = (3,3)\n",
        "pool_size= (2,2)\n",
        "first_filters = 32\n",
        "second_filters = 64\n",
        "third_filters = 128\n",
        "\n",
        "dropout_conv = 0.3\n",
        "dropout_dense = 0.3\n",
        "\n",
        "\n",
        "model = Sequential()\n",
        "model.add(Conv2D(first_filters, kernel_size, activation = 'relu', \n",
        "                 input_shape = (IMAGE_HEIGHT, IMAGE_WIDTH, 3)))\n",
        "model.add(Conv2D(first_filters, kernel_size, activation = 'relu'))\n",
        "model.add(Conv2D(first_filters, kernel_size, activation = 'relu'))\n",
        "model.add(MaxPooling2D(pool_size = pool_size)) \n",
        "model.add(Dropout(dropout_conv))\n",
        "\n",
        "model.add(Conv2D(second_filters, kernel_size, activation ='relu'))\n",
        "model.add(Conv2D(second_filters, kernel_size, activation ='relu'))\n",
        "model.add(Conv2D(second_filters, kernel_size, activation ='relu'))\n",
        "model.add(MaxPooling2D(pool_size = pool_size))\n",
        "model.add(Dropout(dropout_conv))\n",
        "\n",
        "model.add(Conv2D(third_filters, kernel_size, activation ='relu'))\n",
        "model.add(Conv2D(third_filters, kernel_size, activation ='relu'))\n",
        "model.add(Conv2D(third_filters, kernel_size, activation ='relu'))\n",
        "model.add(MaxPooling2D(pool_size = pool_size))\n",
        "model.add(Dropout(dropout_conv))\n",
        "\n",
        "model.add(Flatten())\n",
        "model.add(Dense(256, activation = \"relu\"))\n",
        "model.add(Dropout(dropout_dense))\n",
        "model.add(Dense(2, activation = \"softmax\"))\n",
        "\n",
        "model.summary()"
      ],
      "execution_count": 111,
      "outputs": [
        {
          "output_type": "stream",
          "text": [
            "Model: \"sequential\"\n",
            "_________________________________________________________________\n",
            "Layer (type)                 Output Shape              Param #   \n",
            "=================================================================\n",
            "conv2d (Conv2D)              (None, 94, 94, 32)        896       \n",
            "_________________________________________________________________\n",
            "conv2d_1 (Conv2D)            (None, 92, 92, 32)        9248      \n",
            "_________________________________________________________________\n",
            "conv2d_2 (Conv2D)            (None, 90, 90, 32)        9248      \n",
            "_________________________________________________________________\n",
            "max_pooling2d (MaxPooling2D) (None, 45, 45, 32)        0         \n",
            "_________________________________________________________________\n",
            "dropout (Dropout)            (None, 45, 45, 32)        0         \n",
            "_________________________________________________________________\n",
            "conv2d_3 (Conv2D)            (None, 43, 43, 64)        18496     \n",
            "_________________________________________________________________\n",
            "conv2d_4 (Conv2D)            (None, 41, 41, 64)        36928     \n",
            "_________________________________________________________________\n",
            "conv2d_5 (Conv2D)            (None, 39, 39, 64)        36928     \n",
            "_________________________________________________________________\n",
            "max_pooling2d_1 (MaxPooling2 (None, 19, 19, 64)        0         \n",
            "_________________________________________________________________\n",
            "dropout_1 (Dropout)          (None, 19, 19, 64)        0         \n",
            "_________________________________________________________________\n",
            "conv2d_6 (Conv2D)            (None, 17, 17, 128)       73856     \n",
            "_________________________________________________________________\n",
            "conv2d_7 (Conv2D)            (None, 15, 15, 128)       147584    \n",
            "_________________________________________________________________\n",
            "conv2d_8 (Conv2D)            (None, 13, 13, 128)       147584    \n",
            "_________________________________________________________________\n",
            "max_pooling2d_2 (MaxPooling2 (None, 6, 6, 128)         0         \n",
            "_________________________________________________________________\n",
            "dropout_2 (Dropout)          (None, 6, 6, 128)         0         \n",
            "_________________________________________________________________\n",
            "flatten (Flatten)            (None, 4608)              0         \n",
            "_________________________________________________________________\n",
            "dense (Dense)                (None, 256)               1179904   \n",
            "_________________________________________________________________\n",
            "dropout_3 (Dropout)          (None, 256)               0         \n",
            "_________________________________________________________________\n",
            "dense_1 (Dense)              (None, 2)                 514       \n",
            "=================================================================\n",
            "Total params: 1,661,186\n",
            "Trainable params: 1,661,186\n",
            "Non-trainable params: 0\n",
            "_________________________________________________________________\n"
          ],
          "name": "stdout"
        }
      ]
    },
    {
      "cell_type": "code",
      "metadata": {
        "id": "BXjuWlXwCFcw",
        "colab_type": "code",
        "colab": {}
      },
      "source": [
        "model.compile(Adam(lr=0.0001), loss='binary_crossentropy', \n",
        "              metrics=['accuracy'])"
      ],
      "execution_count": 0,
      "outputs": []
    },
    {
      "cell_type": "code",
      "metadata": {
        "id": "LBT02A3mCJba",
        "colab_type": "code",
        "colab": {
          "base_uri": "https://localhost:8080/",
          "height": 1000
        },
        "outputId": "37d32702-5e93-4f2e-d177-ee3ff1a3e40d"
      },
      "source": [
        "filepath = \"model.h5\"\n",
        "checkpoint = ModelCheckpoint(filepath, monitor='val_acc', verbose=1, \n",
        "                             save_best_only=True, mode='max')\n",
        "\n",
        "reduce_lr = ReduceLROnPlateau(monitor='val_acc', factor=0.5, patience=2, \n",
        "                                   verbose=1, mode='max', min_lr=0.00001)\n",
        "                              \n",
        "                              \n",
        "callbacks_list = [checkpoint, reduce_lr]\n",
        "\n",
        "history = model.fit_generator(train_gen, steps_per_epoch=train_steps, \n",
        "                            validation_data=val_gen,\n",
        "                            validation_steps=val_steps,\n",
        "                            epochs=100, verbose=1,\n",
        "                           callbacks=callbacks_list)"
      ],
      "execution_count": 113,
      "outputs": [
        {
          "output_type": "stream",
          "text": [
            "WARNING:tensorflow:From <ipython-input-113-9eb45d6dfb21>:15: Model.fit_generator (from tensorflow.python.keras.engine.training) is deprecated and will be removed in a future version.\n",
            "Instructions for updating:\n",
            "Please use Model.fit, which supports generators.\n",
            "Epoch 1/100\n",
            "67/68 [============================>.] - ETA: 0s - loss: 0.6939 - accuracy: 0.5104WARNING:tensorflow:Can save best model only with val_acc available, skipping.\n",
            "WARNING:tensorflow:Reduce LR on plateau conditioned on metric `val_acc` which is not available. Available metrics are: loss,accuracy,val_loss,val_accuracy,lr\n",
            "68/68 [==============================] - 2s 28ms/step - loss: 0.6939 - accuracy: 0.5118 - val_loss: 0.6930 - val_accuracy: 0.5500 - lr: 1.0000e-04\n",
            "Epoch 2/100\n",
            "68/68 [==============================] - ETA: 0s - loss: 0.6928 - accuracy: 0.4926WARNING:tensorflow:Can save best model only with val_acc available, skipping.\n",
            "WARNING:tensorflow:Reduce LR on plateau conditioned on metric `val_acc` which is not available. Available metrics are: loss,accuracy,val_loss,val_accuracy,lr\n",
            "68/68 [==============================] - 2s 25ms/step - loss: 0.6928 - accuracy: 0.4926 - val_loss: 0.6933 - val_accuracy: 0.4833 - lr: 1.0000e-04\n",
            "Epoch 3/100\n",
            "68/68 [==============================] - ETA: 0s - loss: 0.6935 - accuracy: 0.5176WARNING:tensorflow:Can save best model only with val_acc available, skipping.\n",
            "WARNING:tensorflow:Reduce LR on plateau conditioned on metric `val_acc` which is not available. Available metrics are: loss,accuracy,val_loss,val_accuracy,lr\n",
            "68/68 [==============================] - 2s 25ms/step - loss: 0.6935 - accuracy: 0.5176 - val_loss: 0.6930 - val_accuracy: 0.4833 - lr: 1.0000e-04\n",
            "Epoch 4/100\n",
            "67/68 [============================>.] - ETA: 0s - loss: 0.6908 - accuracy: 0.5418WARNING:tensorflow:Can save best model only with val_acc available, skipping.\n",
            "WARNING:tensorflow:Reduce LR on plateau conditioned on metric `val_acc` which is not available. Available metrics are: loss,accuracy,val_loss,val_accuracy,lr\n",
            "68/68 [==============================] - 2s 25ms/step - loss: 0.6903 - accuracy: 0.5456 - val_loss: 0.6892 - val_accuracy: 0.5167 - lr: 1.0000e-04\n",
            "Epoch 5/100\n",
            "66/68 [============================>.] - ETA: 0s - loss: 0.6921 - accuracy: 0.5545WARNING:tensorflow:Can save best model only with val_acc available, skipping.\n",
            "WARNING:tensorflow:Reduce LR on plateau conditioned on metric `val_acc` which is not available. Available metrics are: loss,accuracy,val_loss,val_accuracy,lr\n",
            "68/68 [==============================] - 2s 25ms/step - loss: 0.6913 - accuracy: 0.5618 - val_loss: 0.6832 - val_accuracy: 0.6417 - lr: 1.0000e-04\n",
            "Epoch 6/100\n",
            "67/68 [============================>.] - ETA: 0s - loss: 0.6862 - accuracy: 0.5597WARNING:tensorflow:Can save best model only with val_acc available, skipping.\n",
            "WARNING:tensorflow:Reduce LR on plateau conditioned on metric `val_acc` which is not available. Available metrics are: loss,accuracy,val_loss,val_accuracy,lr\n",
            "68/68 [==============================] - 2s 25ms/step - loss: 0.6868 - accuracy: 0.5559 - val_loss: 0.6910 - val_accuracy: 0.4833 - lr: 1.0000e-04\n",
            "Epoch 7/100\n",
            "68/68 [==============================] - ETA: 0s - loss: 0.6845 - accuracy: 0.5632WARNING:tensorflow:Can save best model only with val_acc available, skipping.\n",
            "WARNING:tensorflow:Reduce LR on plateau conditioned on metric `val_acc` which is not available. Available metrics are: loss,accuracy,val_loss,val_accuracy,lr\n",
            "68/68 [==============================] - 2s 25ms/step - loss: 0.6845 - accuracy: 0.5632 - val_loss: 0.6646 - val_accuracy: 0.6000 - lr: 1.0000e-04\n",
            "Epoch 8/100\n",
            "66/68 [============================>.] - ETA: 0s - loss: 0.6811 - accuracy: 0.5515WARNING:tensorflow:Can save best model only with val_acc available, skipping.\n",
            "WARNING:tensorflow:Reduce LR on plateau conditioned on metric `val_acc` which is not available. Available metrics are: loss,accuracy,val_loss,val_accuracy,lr\n",
            "68/68 [==============================] - 2s 25ms/step - loss: 0.6804 - accuracy: 0.5574 - val_loss: 0.6752 - val_accuracy: 0.6583 - lr: 1.0000e-04\n",
            "Epoch 9/100\n",
            "66/68 [============================>.] - ETA: 0s - loss: 0.6256 - accuracy: 0.6561WARNING:tensorflow:Can save best model only with val_acc available, skipping.\n",
            "WARNING:tensorflow:Reduce LR on plateau conditioned on metric `val_acc` which is not available. Available metrics are: loss,accuracy,val_loss,val_accuracy,lr\n",
            "68/68 [==============================] - 2s 25ms/step - loss: 0.6209 - accuracy: 0.6618 - val_loss: 0.5618 - val_accuracy: 0.6917 - lr: 1.0000e-04\n",
            "Epoch 10/100\n",
            "67/68 [============================>.] - ETA: 0s - loss: 0.6286 - accuracy: 0.6522WARNING:tensorflow:Can save best model only with val_acc available, skipping.\n",
            "WARNING:tensorflow:Reduce LR on plateau conditioned on metric `val_acc` which is not available. Available metrics are: loss,accuracy,val_loss,val_accuracy,lr\n",
            "68/68 [==============================] - 2s 25ms/step - loss: 0.6283 - accuracy: 0.6515 - val_loss: 0.6125 - val_accuracy: 0.6917 - lr: 1.0000e-04\n",
            "Epoch 11/100\n",
            "67/68 [============================>.] - ETA: 0s - loss: 0.5779 - accuracy: 0.7104WARNING:tensorflow:Can save best model only with val_acc available, skipping.\n",
            "WARNING:tensorflow:Reduce LR on plateau conditioned on metric `val_acc` which is not available. Available metrics are: loss,accuracy,val_loss,val_accuracy,lr\n",
            "68/68 [==============================] - 2s 24ms/step - loss: 0.5860 - accuracy: 0.7088 - val_loss: 0.5323 - val_accuracy: 0.7500 - lr: 1.0000e-04\n",
            "Epoch 12/100\n",
            "67/68 [============================>.] - ETA: 0s - loss: 0.5636 - accuracy: 0.6940WARNING:tensorflow:Can save best model only with val_acc available, skipping.\n",
            "WARNING:tensorflow:Reduce LR on plateau conditioned on metric `val_acc` which is not available. Available metrics are: loss,accuracy,val_loss,val_accuracy,lr\n",
            "68/68 [==============================] - 2s 25ms/step - loss: 0.5671 - accuracy: 0.6926 - val_loss: 0.5472 - val_accuracy: 0.7417 - lr: 1.0000e-04\n",
            "Epoch 13/100\n",
            "66/68 [============================>.] - ETA: 0s - loss: 0.5518 - accuracy: 0.7333WARNING:tensorflow:Can save best model only with val_acc available, skipping.\n",
            "WARNING:tensorflow:Reduce LR on plateau conditioned on metric `val_acc` which is not available. Available metrics are: loss,accuracy,val_loss,val_accuracy,lr\n",
            "68/68 [==============================] - 2s 25ms/step - loss: 0.5509 - accuracy: 0.7338 - val_loss: 0.5330 - val_accuracy: 0.7500 - lr: 1.0000e-04\n",
            "Epoch 14/100\n",
            "66/68 [============================>.] - ETA: 0s - loss: 0.5549 - accuracy: 0.7303WARNING:tensorflow:Can save best model only with val_acc available, skipping.\n",
            "WARNING:tensorflow:Reduce LR on plateau conditioned on metric `val_acc` which is not available. Available metrics are: loss,accuracy,val_loss,val_accuracy,lr\n",
            "68/68 [==============================] - 2s 26ms/step - loss: 0.5532 - accuracy: 0.7324 - val_loss: 0.5468 - val_accuracy: 0.6917 - lr: 1.0000e-04\n",
            "Epoch 15/100\n",
            "66/68 [============================>.] - ETA: 0s - loss: 0.5365 - accuracy: 0.7439WARNING:tensorflow:Can save best model only with val_acc available, skipping.\n",
            "WARNING:tensorflow:Reduce LR on plateau conditioned on metric `val_acc` which is not available. Available metrics are: loss,accuracy,val_loss,val_accuracy,lr\n",
            "68/68 [==============================] - 2s 27ms/step - loss: 0.5364 - accuracy: 0.7441 - val_loss: 0.5096 - val_accuracy: 0.7750 - lr: 1.0000e-04\n",
            "Epoch 16/100\n",
            "66/68 [============================>.] - ETA: 0s - loss: 0.5087 - accuracy: 0.7379WARNING:tensorflow:Can save best model only with val_acc available, skipping.\n",
            "WARNING:tensorflow:Reduce LR on plateau conditioned on metric `val_acc` which is not available. Available metrics are: loss,accuracy,val_loss,val_accuracy,lr\n",
            "68/68 [==============================] - 2s 26ms/step - loss: 0.5090 - accuracy: 0.7382 - val_loss: 0.5014 - val_accuracy: 0.7500 - lr: 1.0000e-04\n",
            "Epoch 17/100\n",
            "68/68 [==============================] - ETA: 0s - loss: 0.5369 - accuracy: 0.7265WARNING:tensorflow:Can save best model only with val_acc available, skipping.\n",
            "WARNING:tensorflow:Reduce LR on plateau conditioned on metric `val_acc` which is not available. Available metrics are: loss,accuracy,val_loss,val_accuracy,lr\n",
            "68/68 [==============================] - 2s 25ms/step - loss: 0.5369 - accuracy: 0.7265 - val_loss: 0.5068 - val_accuracy: 0.7667 - lr: 1.0000e-04\n",
            "Epoch 18/100\n",
            "66/68 [============================>.] - ETA: 0s - loss: 0.5318 - accuracy: 0.7333WARNING:tensorflow:Can save best model only with val_acc available, skipping.\n",
            "WARNING:tensorflow:Reduce LR on plateau conditioned on metric `val_acc` which is not available. Available metrics are: loss,accuracy,val_loss,val_accuracy,lr\n",
            "68/68 [==============================] - 2s 26ms/step - loss: 0.5313 - accuracy: 0.7324 - val_loss: 0.6114 - val_accuracy: 0.6500 - lr: 1.0000e-04\n",
            "Epoch 19/100\n",
            "68/68 [==============================] - ETA: 0s - loss: 0.5267 - accuracy: 0.7456WARNING:tensorflow:Can save best model only with val_acc available, skipping.\n",
            "WARNING:tensorflow:Reduce LR on plateau conditioned on metric `val_acc` which is not available. Available metrics are: loss,accuracy,val_loss,val_accuracy,lr\n",
            "68/68 [==============================] - 2s 25ms/step - loss: 0.5267 - accuracy: 0.7456 - val_loss: 0.4824 - val_accuracy: 0.7333 - lr: 1.0000e-04\n",
            "Epoch 20/100\n",
            "66/68 [============================>.] - ETA: 0s - loss: 0.5019 - accuracy: 0.7485WARNING:tensorflow:Can save best model only with val_acc available, skipping.\n",
            "WARNING:tensorflow:Reduce LR on plateau conditioned on metric `val_acc` which is not available. Available metrics are: loss,accuracy,val_loss,val_accuracy,lr\n",
            "68/68 [==============================] - 2s 26ms/step - loss: 0.5069 - accuracy: 0.7456 - val_loss: 0.5256 - val_accuracy: 0.7250 - lr: 1.0000e-04\n",
            "Epoch 21/100\n",
            "66/68 [============================>.] - ETA: 0s - loss: 0.4972 - accuracy: 0.7697WARNING:tensorflow:Can save best model only with val_acc available, skipping.\n",
            "WARNING:tensorflow:Reduce LR on plateau conditioned on metric `val_acc` which is not available. Available metrics are: loss,accuracy,val_loss,val_accuracy,lr\n",
            "68/68 [==============================] - 2s 25ms/step - loss: 0.4986 - accuracy: 0.7662 - val_loss: 0.4980 - val_accuracy: 0.7583 - lr: 1.0000e-04\n",
            "Epoch 22/100\n",
            "68/68 [==============================] - ETA: 0s - loss: 0.5074 - accuracy: 0.7706WARNING:tensorflow:Can save best model only with val_acc available, skipping.\n",
            "WARNING:tensorflow:Reduce LR on plateau conditioned on metric `val_acc` which is not available. Available metrics are: loss,accuracy,val_loss,val_accuracy,lr\n",
            "68/68 [==============================] - 2s 26ms/step - loss: 0.5074 - accuracy: 0.7706 - val_loss: 0.4979 - val_accuracy: 0.7833 - lr: 1.0000e-04\n",
            "Epoch 23/100\n",
            "68/68 [==============================] - ETA: 0s - loss: 0.5135 - accuracy: 0.7603WARNING:tensorflow:Can save best model only with val_acc available, skipping.\n",
            "WARNING:tensorflow:Reduce LR on plateau conditioned on metric `val_acc` which is not available. Available metrics are: loss,accuracy,val_loss,val_accuracy,lr\n",
            "68/68 [==============================] - 2s 25ms/step - loss: 0.5135 - accuracy: 0.7603 - val_loss: 0.5163 - val_accuracy: 0.7000 - lr: 1.0000e-04\n",
            "Epoch 24/100\n",
            "68/68 [==============================] - ETA: 0s - loss: 0.5135 - accuracy: 0.7529WARNING:tensorflow:Can save best model only with val_acc available, skipping.\n",
            "WARNING:tensorflow:Reduce LR on plateau conditioned on metric `val_acc` which is not available. Available metrics are: loss,accuracy,val_loss,val_accuracy,lr\n",
            "68/68 [==============================] - 2s 28ms/step - loss: 0.5135 - accuracy: 0.7529 - val_loss: 0.5168 - val_accuracy: 0.7000 - lr: 1.0000e-04\n",
            "Epoch 25/100\n",
            "66/68 [============================>.] - ETA: 0s - loss: 0.4712 - accuracy: 0.7909WARNING:tensorflow:Can save best model only with val_acc available, skipping.\n",
            "WARNING:tensorflow:Reduce LR on plateau conditioned on metric `val_acc` which is not available. Available metrics are: loss,accuracy,val_loss,val_accuracy,lr\n",
            "68/68 [==============================] - 2s 28ms/step - loss: 0.4757 - accuracy: 0.7868 - val_loss: 0.5039 - val_accuracy: 0.7667 - lr: 1.0000e-04\n",
            "Epoch 26/100\n",
            "67/68 [============================>.] - ETA: 0s - loss: 0.5127 - accuracy: 0.7582WARNING:tensorflow:Can save best model only with val_acc available, skipping.\n",
            "WARNING:tensorflow:Reduce LR on plateau conditioned on metric `val_acc` which is not available. Available metrics are: loss,accuracy,val_loss,val_accuracy,lr\n",
            "68/68 [==============================] - 2s 28ms/step - loss: 0.5101 - accuracy: 0.7588 - val_loss: 0.4610 - val_accuracy: 0.7833 - lr: 1.0000e-04\n",
            "Epoch 27/100\n",
            "66/68 [============================>.] - ETA: 0s - loss: 0.4898 - accuracy: 0.7455WARNING:tensorflow:Can save best model only with val_acc available, skipping.\n",
            "WARNING:tensorflow:Reduce LR on plateau conditioned on metric `val_acc` which is not available. Available metrics are: loss,accuracy,val_loss,val_accuracy,lr\n",
            "68/68 [==============================] - 2s 27ms/step - loss: 0.4894 - accuracy: 0.7471 - val_loss: 0.5695 - val_accuracy: 0.7250 - lr: 1.0000e-04\n",
            "Epoch 28/100\n",
            "66/68 [============================>.] - ETA: 0s - loss: 0.4815 - accuracy: 0.7833WARNING:tensorflow:Can save best model only with val_acc available, skipping.\n",
            "WARNING:tensorflow:Reduce LR on plateau conditioned on metric `val_acc` which is not available. Available metrics are: loss,accuracy,val_loss,val_accuracy,lr\n",
            "68/68 [==============================] - 2s 27ms/step - loss: 0.4841 - accuracy: 0.7838 - val_loss: 0.5049 - val_accuracy: 0.7667 - lr: 1.0000e-04\n",
            "Epoch 29/100\n",
            "68/68 [==============================] - ETA: 0s - loss: 0.4910 - accuracy: 0.7691WARNING:tensorflow:Can save best model only with val_acc available, skipping.\n",
            "WARNING:tensorflow:Reduce LR on plateau conditioned on metric `val_acc` which is not available. Available metrics are: loss,accuracy,val_loss,val_accuracy,lr\n",
            "68/68 [==============================] - 2s 26ms/step - loss: 0.4910 - accuracy: 0.7691 - val_loss: 0.4948 - val_accuracy: 0.7917 - lr: 1.0000e-04\n",
            "Epoch 30/100\n",
            "67/68 [============================>.] - ETA: 0s - loss: 0.4877 - accuracy: 0.7881WARNING:tensorflow:Can save best model only with val_acc available, skipping.\n",
            "WARNING:tensorflow:Reduce LR on plateau conditioned on metric `val_acc` which is not available. Available metrics are: loss,accuracy,val_loss,val_accuracy,lr\n",
            "68/68 [==============================] - 2s 25ms/step - loss: 0.4889 - accuracy: 0.7853 - val_loss: 0.4995 - val_accuracy: 0.7417 - lr: 1.0000e-04\n",
            "Epoch 31/100\n",
            "66/68 [============================>.] - ETA: 0s - loss: 0.4770 - accuracy: 0.7727WARNING:tensorflow:Can save best model only with val_acc available, skipping.\n",
            "WARNING:tensorflow:Reduce LR on plateau conditioned on metric `val_acc` which is not available. Available metrics are: loss,accuracy,val_loss,val_accuracy,lr\n",
            "68/68 [==============================] - 2s 25ms/step - loss: 0.4831 - accuracy: 0.7647 - val_loss: 0.5097 - val_accuracy: 0.7333 - lr: 1.0000e-04\n",
            "Epoch 32/100\n",
            "68/68 [==============================] - ETA: 0s - loss: 0.4608 - accuracy: 0.7824WARNING:tensorflow:Can save best model only with val_acc available, skipping.\n",
            "WARNING:tensorflow:Reduce LR on plateau conditioned on metric `val_acc` which is not available. Available metrics are: loss,accuracy,val_loss,val_accuracy,lr\n",
            "68/68 [==============================] - 2s 26ms/step - loss: 0.4608 - accuracy: 0.7824 - val_loss: 0.4815 - val_accuracy: 0.7333 - lr: 1.0000e-04\n",
            "Epoch 33/100\n",
            "68/68 [==============================] - ETA: 0s - loss: 0.4689 - accuracy: 0.7882WARNING:tensorflow:Can save best model only with val_acc available, skipping.\n",
            "WARNING:tensorflow:Reduce LR on plateau conditioned on metric `val_acc` which is not available. Available metrics are: loss,accuracy,val_loss,val_accuracy,lr\n",
            "68/68 [==============================] - 2s 25ms/step - loss: 0.4689 - accuracy: 0.7882 - val_loss: 0.4926 - val_accuracy: 0.7667 - lr: 1.0000e-04\n",
            "Epoch 34/100\n",
            "68/68 [==============================] - ETA: 0s - loss: 0.4616 - accuracy: 0.7853WARNING:tensorflow:Can save best model only with val_acc available, skipping.\n",
            "WARNING:tensorflow:Reduce LR on plateau conditioned on metric `val_acc` which is not available. Available metrics are: loss,accuracy,val_loss,val_accuracy,lr\n",
            "68/68 [==============================] - 2s 25ms/step - loss: 0.4616 - accuracy: 0.7853 - val_loss: 0.5099 - val_accuracy: 0.7667 - lr: 1.0000e-04\n",
            "Epoch 35/100\n",
            "67/68 [============================>.] - ETA: 0s - loss: 0.4884 - accuracy: 0.7657WARNING:tensorflow:Can save best model only with val_acc available, skipping.\n",
            "WARNING:tensorflow:Reduce LR on plateau conditioned on metric `val_acc` which is not available. Available metrics are: loss,accuracy,val_loss,val_accuracy,lr\n",
            "68/68 [==============================] - 2s 25ms/step - loss: 0.4873 - accuracy: 0.7676 - val_loss: 0.5065 - val_accuracy: 0.7583 - lr: 1.0000e-04\n",
            "Epoch 36/100\n",
            "67/68 [============================>.] - ETA: 0s - loss: 0.4457 - accuracy: 0.7821WARNING:tensorflow:Can save best model only with val_acc available, skipping.\n",
            "WARNING:tensorflow:Reduce LR on plateau conditioned on metric `val_acc` which is not available. Available metrics are: loss,accuracy,val_loss,val_accuracy,lr\n",
            "68/68 [==============================] - 2s 24ms/step - loss: 0.4494 - accuracy: 0.7779 - val_loss: 0.4862 - val_accuracy: 0.7750 - lr: 1.0000e-04\n",
            "Epoch 37/100\n",
            "67/68 [============================>.] - ETA: 0s - loss: 0.4870 - accuracy: 0.7776WARNING:tensorflow:Can save best model only with val_acc available, skipping.\n",
            "WARNING:tensorflow:Reduce LR on plateau conditioned on metric `val_acc` which is not available. Available metrics are: loss,accuracy,val_loss,val_accuracy,lr\n",
            "68/68 [==============================] - 2s 26ms/step - loss: 0.4862 - accuracy: 0.7794 - val_loss: 0.5003 - val_accuracy: 0.7750 - lr: 1.0000e-04\n",
            "Epoch 38/100\n",
            "67/68 [============================>.] - ETA: 0s - loss: 0.4372 - accuracy: 0.8104WARNING:tensorflow:Can save best model only with val_acc available, skipping.\n",
            "WARNING:tensorflow:Reduce LR on plateau conditioned on metric `val_acc` which is not available. Available metrics are: loss,accuracy,val_loss,val_accuracy,lr\n",
            "68/68 [==============================] - 2s 26ms/step - loss: 0.4372 - accuracy: 0.8118 - val_loss: 0.5080 - val_accuracy: 0.7583 - lr: 1.0000e-04\n",
            "Epoch 39/100\n",
            "66/68 [============================>.] - ETA: 0s - loss: 0.4714 - accuracy: 0.7682WARNING:tensorflow:Can save best model only with val_acc available, skipping.\n",
            "WARNING:tensorflow:Reduce LR on plateau conditioned on metric `val_acc` which is not available. Available metrics are: loss,accuracy,val_loss,val_accuracy,lr\n",
            "68/68 [==============================] - 2s 25ms/step - loss: 0.4711 - accuracy: 0.7676 - val_loss: 0.4488 - val_accuracy: 0.7750 - lr: 1.0000e-04\n",
            "Epoch 40/100\n",
            "67/68 [============================>.] - ETA: 0s - loss: 0.4669 - accuracy: 0.7836WARNING:tensorflow:Can save best model only with val_acc available, skipping.\n",
            "WARNING:tensorflow:Reduce LR on plateau conditioned on metric `val_acc` which is not available. Available metrics are: loss,accuracy,val_loss,val_accuracy,lr\n",
            "68/68 [==============================] - 2s 26ms/step - loss: 0.4678 - accuracy: 0.7809 - val_loss: 0.5060 - val_accuracy: 0.7583 - lr: 1.0000e-04\n",
            "Epoch 41/100\n",
            "68/68 [==============================] - ETA: 0s - loss: 0.4506 - accuracy: 0.7912WARNING:tensorflow:Can save best model only with val_acc available, skipping.\n",
            "WARNING:tensorflow:Reduce LR on plateau conditioned on metric `val_acc` which is not available. Available metrics are: loss,accuracy,val_loss,val_accuracy,lr\n",
            "68/68 [==============================] - 2s 26ms/step - loss: 0.4506 - accuracy: 0.7912 - val_loss: 0.5018 - val_accuracy: 0.7083 - lr: 1.0000e-04\n",
            "Epoch 42/100\n",
            "68/68 [==============================] - ETA: 0s - loss: 0.4478 - accuracy: 0.7985WARNING:tensorflow:Can save best model only with val_acc available, skipping.\n",
            "WARNING:tensorflow:Reduce LR on plateau conditioned on metric `val_acc` which is not available. Available metrics are: loss,accuracy,val_loss,val_accuracy,lr\n",
            "68/68 [==============================] - 2s 26ms/step - loss: 0.4478 - accuracy: 0.7985 - val_loss: 0.5150 - val_accuracy: 0.7750 - lr: 1.0000e-04\n",
            "Epoch 43/100\n",
            "66/68 [============================>.] - ETA: 0s - loss: 0.4534 - accuracy: 0.7894WARNING:tensorflow:Can save best model only with val_acc available, skipping.\n",
            "WARNING:tensorflow:Reduce LR on plateau conditioned on metric `val_acc` which is not available. Available metrics are: loss,accuracy,val_loss,val_accuracy,lr\n",
            "68/68 [==============================] - 2s 26ms/step - loss: 0.4531 - accuracy: 0.7926 - val_loss: 0.4608 - val_accuracy: 0.7750 - lr: 1.0000e-04\n",
            "Epoch 44/100\n",
            "68/68 [==============================] - ETA: 0s - loss: 0.4207 - accuracy: 0.8132WARNING:tensorflow:Can save best model only with val_acc available, skipping.\n",
            "WARNING:tensorflow:Reduce LR on plateau conditioned on metric `val_acc` which is not available. Available metrics are: loss,accuracy,val_loss,val_accuracy,lr\n",
            "68/68 [==============================] - 2s 25ms/step - loss: 0.4207 - accuracy: 0.8132 - val_loss: 0.6450 - val_accuracy: 0.7250 - lr: 1.0000e-04\n",
            "Epoch 45/100\n",
            "66/68 [============================>.] - ETA: 0s - loss: 0.4794 - accuracy: 0.7727WARNING:tensorflow:Can save best model only with val_acc available, skipping.\n",
            "WARNING:tensorflow:Reduce LR on plateau conditioned on metric `val_acc` which is not available. Available metrics are: loss,accuracy,val_loss,val_accuracy,lr\n",
            "68/68 [==============================] - 2s 25ms/step - loss: 0.4850 - accuracy: 0.7706 - val_loss: 0.4607 - val_accuracy: 0.8000 - lr: 1.0000e-04\n",
            "Epoch 46/100\n",
            "67/68 [============================>.] - ETA: 0s - loss: 0.4337 - accuracy: 0.8119WARNING:tensorflow:Can save best model only with val_acc available, skipping.\n",
            "WARNING:tensorflow:Reduce LR on plateau conditioned on metric `val_acc` which is not available. Available metrics are: loss,accuracy,val_loss,val_accuracy,lr\n",
            "68/68 [==============================] - 2s 25ms/step - loss: 0.4360 - accuracy: 0.8118 - val_loss: 0.4665 - val_accuracy: 0.8083 - lr: 1.0000e-04\n",
            "Epoch 47/100\n",
            "67/68 [============================>.] - ETA: 0s - loss: 0.4455 - accuracy: 0.8030WARNING:tensorflow:Can save best model only with val_acc available, skipping.\n",
            "WARNING:tensorflow:Reduce LR on plateau conditioned on metric `val_acc` which is not available. Available metrics are: loss,accuracy,val_loss,val_accuracy,lr\n",
            "68/68 [==============================] - 2s 26ms/step - loss: 0.4446 - accuracy: 0.8044 - val_loss: 0.5694 - val_accuracy: 0.7333 - lr: 1.0000e-04\n",
            "Epoch 48/100\n",
            "68/68 [==============================] - ETA: 0s - loss: 0.4529 - accuracy: 0.7824WARNING:tensorflow:Can save best model only with val_acc available, skipping.\n",
            "WARNING:tensorflow:Reduce LR on plateau conditioned on metric `val_acc` which is not available. Available metrics are: loss,accuracy,val_loss,val_accuracy,lr\n",
            "68/68 [==============================] - 2s 25ms/step - loss: 0.4529 - accuracy: 0.7824 - val_loss: 0.4931 - val_accuracy: 0.7500 - lr: 1.0000e-04\n",
            "Epoch 49/100\n",
            "67/68 [============================>.] - ETA: 0s - loss: 0.4269 - accuracy: 0.8179WARNING:tensorflow:Can save best model only with val_acc available, skipping.\n",
            "WARNING:tensorflow:Reduce LR on plateau conditioned on metric `val_acc` which is not available. Available metrics are: loss,accuracy,val_loss,val_accuracy,lr\n",
            "68/68 [==============================] - 2s 25ms/step - loss: 0.4279 - accuracy: 0.8176 - val_loss: 0.5003 - val_accuracy: 0.7583 - lr: 1.0000e-04\n",
            "Epoch 50/100\n",
            "67/68 [============================>.] - ETA: 0s - loss: 0.4133 - accuracy: 0.8179WARNING:tensorflow:Can save best model only with val_acc available, skipping.\n",
            "WARNING:tensorflow:Reduce LR on plateau conditioned on metric `val_acc` which is not available. Available metrics are: loss,accuracy,val_loss,val_accuracy,lr\n",
            "68/68 [==============================] - 2s 25ms/step - loss: 0.4134 - accuracy: 0.8176 - val_loss: 0.5143 - val_accuracy: 0.7583 - lr: 1.0000e-04\n",
            "Epoch 51/100\n",
            "66/68 [============================>.] - ETA: 0s - loss: 0.4373 - accuracy: 0.7879WARNING:tensorflow:Can save best model only with val_acc available, skipping.\n",
            "WARNING:tensorflow:Reduce LR on plateau conditioned on metric `val_acc` which is not available. Available metrics are: loss,accuracy,val_loss,val_accuracy,lr\n",
            "68/68 [==============================] - 2s 25ms/step - loss: 0.4441 - accuracy: 0.7853 - val_loss: 0.4876 - val_accuracy: 0.7833 - lr: 1.0000e-04\n",
            "Epoch 52/100\n",
            "67/68 [============================>.] - ETA: 0s - loss: 0.4340 - accuracy: 0.8045WARNING:tensorflow:Can save best model only with val_acc available, skipping.\n",
            "WARNING:tensorflow:Reduce LR on plateau conditioned on metric `val_acc` which is not available. Available metrics are: loss,accuracy,val_loss,val_accuracy,lr\n",
            "68/68 [==============================] - 2s 25ms/step - loss: 0.4329 - accuracy: 0.8044 - val_loss: 0.5099 - val_accuracy: 0.7583 - lr: 1.0000e-04\n",
            "Epoch 53/100\n",
            "66/68 [============================>.] - ETA: 0s - loss: 0.4540 - accuracy: 0.8030WARNING:tensorflow:Can save best model only with val_acc available, skipping.\n",
            "WARNING:tensorflow:Reduce LR on plateau conditioned on metric `val_acc` which is not available. Available metrics are: loss,accuracy,val_loss,val_accuracy,lr\n",
            "68/68 [==============================] - 2s 25ms/step - loss: 0.4543 - accuracy: 0.8029 - val_loss: 0.5198 - val_accuracy: 0.7250 - lr: 1.0000e-04\n",
            "Epoch 54/100\n",
            "67/68 [============================>.] - ETA: 0s - loss: 0.4257 - accuracy: 0.8104WARNING:tensorflow:Can save best model only with val_acc available, skipping.\n",
            "WARNING:tensorflow:Reduce LR on plateau conditioned on metric `val_acc` which is not available. Available metrics are: loss,accuracy,val_loss,val_accuracy,lr\n",
            "68/68 [==============================] - 2s 26ms/step - loss: 0.4226 - accuracy: 0.8118 - val_loss: 0.5221 - val_accuracy: 0.7417 - lr: 1.0000e-04\n",
            "Epoch 55/100\n",
            "68/68 [==============================] - ETA: 0s - loss: 0.4119 - accuracy: 0.8206WARNING:tensorflow:Can save best model only with val_acc available, skipping.\n",
            "WARNING:tensorflow:Reduce LR on plateau conditioned on metric `val_acc` which is not available. Available metrics are: loss,accuracy,val_loss,val_accuracy,lr\n",
            "68/68 [==============================] - 2s 26ms/step - loss: 0.4119 - accuracy: 0.8206 - val_loss: 0.4647 - val_accuracy: 0.7667 - lr: 1.0000e-04\n",
            "Epoch 56/100\n",
            "67/68 [============================>.] - ETA: 0s - loss: 0.4447 - accuracy: 0.7925WARNING:tensorflow:Can save best model only with val_acc available, skipping.\n",
            "WARNING:tensorflow:Reduce LR on plateau conditioned on metric `val_acc` which is not available. Available metrics are: loss,accuracy,val_loss,val_accuracy,lr\n",
            "68/68 [==============================] - 2s 26ms/step - loss: 0.4420 - accuracy: 0.7941 - val_loss: 0.4574 - val_accuracy: 0.8083 - lr: 1.0000e-04\n",
            "Epoch 57/100\n",
            "67/68 [============================>.] - ETA: 0s - loss: 0.4112 - accuracy: 0.8179WARNING:tensorflow:Can save best model only with val_acc available, skipping.\n",
            "WARNING:tensorflow:Reduce LR on plateau conditioned on metric `val_acc` which is not available. Available metrics are: loss,accuracy,val_loss,val_accuracy,lr\n",
            "68/68 [==============================] - 2s 26ms/step - loss: 0.4166 - accuracy: 0.8147 - val_loss: 0.5623 - val_accuracy: 0.7583 - lr: 1.0000e-04\n",
            "Epoch 58/100\n",
            "68/68 [==============================] - ETA: 0s - loss: 0.3676 - accuracy: 0.8441WARNING:tensorflow:Can save best model only with val_acc available, skipping.\n",
            "WARNING:tensorflow:Reduce LR on plateau conditioned on metric `val_acc` which is not available. Available metrics are: loss,accuracy,val_loss,val_accuracy,lr\n",
            "68/68 [==============================] - 2s 26ms/step - loss: 0.3676 - accuracy: 0.8441 - val_loss: 0.6181 - val_accuracy: 0.6917 - lr: 1.0000e-04\n",
            "Epoch 59/100\n",
            "66/68 [============================>.] - ETA: 0s - loss: 0.4336 - accuracy: 0.8061WARNING:tensorflow:Can save best model only with val_acc available, skipping.\n",
            "WARNING:tensorflow:Reduce LR on plateau conditioned on metric `val_acc` which is not available. Available metrics are: loss,accuracy,val_loss,val_accuracy,lr\n",
            "68/68 [==============================] - 2s 24ms/step - loss: 0.4297 - accuracy: 0.8074 - val_loss: 0.4695 - val_accuracy: 0.7667 - lr: 1.0000e-04\n",
            "Epoch 60/100\n",
            "66/68 [============================>.] - ETA: 0s - loss: 0.4462 - accuracy: 0.7985WARNING:tensorflow:Can save best model only with val_acc available, skipping.\n",
            "WARNING:tensorflow:Reduce LR on plateau conditioned on metric `val_acc` which is not available. Available metrics are: loss,accuracy,val_loss,val_accuracy,lr\n",
            "68/68 [==============================] - 2s 25ms/step - loss: 0.4422 - accuracy: 0.8000 - val_loss: 0.4821 - val_accuracy: 0.7667 - lr: 1.0000e-04\n",
            "Epoch 61/100\n",
            "67/68 [============================>.] - ETA: 0s - loss: 0.4111 - accuracy: 0.8209WARNING:tensorflow:Can save best model only with val_acc available, skipping.\n",
            "WARNING:tensorflow:Reduce LR on plateau conditioned on metric `val_acc` which is not available. Available metrics are: loss,accuracy,val_loss,val_accuracy,lr\n",
            "68/68 [==============================] - 2s 25ms/step - loss: 0.4121 - accuracy: 0.8206 - val_loss: 0.4788 - val_accuracy: 0.7667 - lr: 1.0000e-04\n",
            "Epoch 62/100\n",
            "67/68 [============================>.] - ETA: 0s - loss: 0.3928 - accuracy: 0.8224WARNING:tensorflow:Can save best model only with val_acc available, skipping.\n",
            "WARNING:tensorflow:Reduce LR on plateau conditioned on metric `val_acc` which is not available. Available metrics are: loss,accuracy,val_loss,val_accuracy,lr\n",
            "68/68 [==============================] - 2s 25ms/step - loss: 0.3892 - accuracy: 0.8235 - val_loss: 0.5190 - val_accuracy: 0.7500 - lr: 1.0000e-04\n",
            "Epoch 63/100\n",
            "68/68 [==============================] - ETA: 0s - loss: 0.4391 - accuracy: 0.7956WARNING:tensorflow:Can save best model only with val_acc available, skipping.\n",
            "WARNING:tensorflow:Reduce LR on plateau conditioned on metric `val_acc` which is not available. Available metrics are: loss,accuracy,val_loss,val_accuracy,lr\n",
            "68/68 [==============================] - 2s 26ms/step - loss: 0.4391 - accuracy: 0.7956 - val_loss: 0.4827 - val_accuracy: 0.7750 - lr: 1.0000e-04\n",
            "Epoch 64/100\n",
            "68/68 [==============================] - ETA: 0s - loss: 0.3802 - accuracy: 0.8294WARNING:tensorflow:Can save best model only with val_acc available, skipping.\n",
            "WARNING:tensorflow:Reduce LR on plateau conditioned on metric `val_acc` which is not available. Available metrics are: loss,accuracy,val_loss,val_accuracy,lr\n",
            "68/68 [==============================] - 2s 26ms/step - loss: 0.3802 - accuracy: 0.8294 - val_loss: 0.4370 - val_accuracy: 0.8083 - lr: 1.0000e-04\n",
            "Epoch 65/100\n",
            "66/68 [============================>.] - ETA: 0s - loss: 0.4483 - accuracy: 0.7985WARNING:tensorflow:Can save best model only with val_acc available, skipping.\n",
            "WARNING:tensorflow:Reduce LR on plateau conditioned on metric `val_acc` which is not available. Available metrics are: loss,accuracy,val_loss,val_accuracy,lr\n",
            "68/68 [==============================] - 2s 26ms/step - loss: 0.4466 - accuracy: 0.8015 - val_loss: 0.5218 - val_accuracy: 0.7417 - lr: 1.0000e-04\n",
            "Epoch 66/100\n",
            "68/68 [==============================] - ETA: 0s - loss: 0.3944 - accuracy: 0.8162WARNING:tensorflow:Can save best model only with val_acc available, skipping.\n",
            "WARNING:tensorflow:Reduce LR on plateau conditioned on metric `val_acc` which is not available. Available metrics are: loss,accuracy,val_loss,val_accuracy,lr\n",
            "68/68 [==============================] - 2s 25ms/step - loss: 0.3944 - accuracy: 0.8162 - val_loss: 0.4667 - val_accuracy: 0.7750 - lr: 1.0000e-04\n",
            "Epoch 67/100\n",
            "68/68 [==============================] - ETA: 0s - loss: 0.4107 - accuracy: 0.8309WARNING:tensorflow:Can save best model only with val_acc available, skipping.\n",
            "WARNING:tensorflow:Reduce LR on plateau conditioned on metric `val_acc` which is not available. Available metrics are: loss,accuracy,val_loss,val_accuracy,lr\n",
            "68/68 [==============================] - 2s 25ms/step - loss: 0.4107 - accuracy: 0.8309 - val_loss: 0.5735 - val_accuracy: 0.6917 - lr: 1.0000e-04\n",
            "Epoch 68/100\n",
            "68/68 [==============================] - ETA: 0s - loss: 0.3894 - accuracy: 0.8118WARNING:tensorflow:Can save best model only with val_acc available, skipping.\n",
            "WARNING:tensorflow:Reduce LR on plateau conditioned on metric `val_acc` which is not available. Available metrics are: loss,accuracy,val_loss,val_accuracy,lr\n",
            "68/68 [==============================] - 2s 26ms/step - loss: 0.3894 - accuracy: 0.8118 - val_loss: 0.4710 - val_accuracy: 0.8000 - lr: 1.0000e-04\n",
            "Epoch 69/100\n",
            "66/68 [============================>.] - ETA: 0s - loss: 0.4203 - accuracy: 0.7955WARNING:tensorflow:Can save best model only with val_acc available, skipping.\n",
            "WARNING:tensorflow:Reduce LR on plateau conditioned on metric `val_acc` which is not available. Available metrics are: loss,accuracy,val_loss,val_accuracy,lr\n",
            "68/68 [==============================] - 2s 25ms/step - loss: 0.4161 - accuracy: 0.7971 - val_loss: 0.4551 - val_accuracy: 0.7917 - lr: 1.0000e-04\n",
            "Epoch 70/100\n",
            "66/68 [============================>.] - ETA: 0s - loss: 0.4203 - accuracy: 0.7985WARNING:tensorflow:Can save best model only with val_acc available, skipping.\n",
            "WARNING:tensorflow:Reduce LR on plateau conditioned on metric `val_acc` which is not available. Available metrics are: loss,accuracy,val_loss,val_accuracy,lr\n",
            "68/68 [==============================] - 2s 25ms/step - loss: 0.4191 - accuracy: 0.8000 - val_loss: 0.5324 - val_accuracy: 0.7417 - lr: 1.0000e-04\n",
            "Epoch 71/100\n",
            "68/68 [==============================] - ETA: 0s - loss: 0.3950 - accuracy: 0.8426WARNING:tensorflow:Can save best model only with val_acc available, skipping.\n",
            "WARNING:tensorflow:Reduce LR on plateau conditioned on metric `val_acc` which is not available. Available metrics are: loss,accuracy,val_loss,val_accuracy,lr\n",
            "68/68 [==============================] - 2s 26ms/step - loss: 0.3950 - accuracy: 0.8426 - val_loss: 0.5029 - val_accuracy: 0.7500 - lr: 1.0000e-04\n",
            "Epoch 72/100\n",
            "68/68 [==============================] - ETA: 0s - loss: 0.3886 - accuracy: 0.8309WARNING:tensorflow:Can save best model only with val_acc available, skipping.\n",
            "WARNING:tensorflow:Reduce LR on plateau conditioned on metric `val_acc` which is not available. Available metrics are: loss,accuracy,val_loss,val_accuracy,lr\n",
            "68/68 [==============================] - 2s 25ms/step - loss: 0.3886 - accuracy: 0.8309 - val_loss: 0.5110 - val_accuracy: 0.7750 - lr: 1.0000e-04\n",
            "Epoch 73/100\n",
            "67/68 [============================>.] - ETA: 0s - loss: 0.3913 - accuracy: 0.8284WARNING:tensorflow:Can save best model only with val_acc available, skipping.\n",
            "WARNING:tensorflow:Reduce LR on plateau conditioned on metric `val_acc` which is not available. Available metrics are: loss,accuracy,val_loss,val_accuracy,lr\n",
            "68/68 [==============================] - 2s 26ms/step - loss: 0.3927 - accuracy: 0.8279 - val_loss: 0.4627 - val_accuracy: 0.7833 - lr: 1.0000e-04\n",
            "Epoch 74/100\n",
            "67/68 [============================>.] - ETA: 0s - loss: 0.4188 - accuracy: 0.8075WARNING:tensorflow:Can save best model only with val_acc available, skipping.\n",
            "WARNING:tensorflow:Reduce LR on plateau conditioned on metric `val_acc` which is not available. Available metrics are: loss,accuracy,val_loss,val_accuracy,lr\n",
            "68/68 [==============================] - 2s 25ms/step - loss: 0.4158 - accuracy: 0.8088 - val_loss: 0.4667 - val_accuracy: 0.8000 - lr: 1.0000e-04\n",
            "Epoch 75/100\n",
            "68/68 [==============================] - ETA: 0s - loss: 0.3993 - accuracy: 0.8235WARNING:tensorflow:Can save best model only with val_acc available, skipping.\n",
            "WARNING:tensorflow:Reduce LR on plateau conditioned on metric `val_acc` which is not available. Available metrics are: loss,accuracy,val_loss,val_accuracy,lr\n",
            "68/68 [==============================] - 2s 26ms/step - loss: 0.3993 - accuracy: 0.8235 - val_loss: 0.4675 - val_accuracy: 0.7833 - lr: 1.0000e-04\n",
            "Epoch 76/100\n",
            "68/68 [==============================] - ETA: 0s - loss: 0.3995 - accuracy: 0.8118WARNING:tensorflow:Can save best model only with val_acc available, skipping.\n",
            "WARNING:tensorflow:Reduce LR on plateau conditioned on metric `val_acc` which is not available. Available metrics are: loss,accuracy,val_loss,val_accuracy,lr\n",
            "68/68 [==============================] - 2s 26ms/step - loss: 0.3995 - accuracy: 0.8118 - val_loss: 0.4665 - val_accuracy: 0.7833 - lr: 1.0000e-04\n",
            "Epoch 77/100\n",
            "66/68 [============================>.] - ETA: 0s - loss: 0.3761 - accuracy: 0.8424WARNING:tensorflow:Can save best model only with val_acc available, skipping.\n",
            "WARNING:tensorflow:Reduce LR on plateau conditioned on metric `val_acc` which is not available. Available metrics are: loss,accuracy,val_loss,val_accuracy,lr\n",
            "68/68 [==============================] - 2s 26ms/step - loss: 0.3771 - accuracy: 0.8397 - val_loss: 0.4658 - val_accuracy: 0.7917 - lr: 1.0000e-04\n",
            "Epoch 78/100\n",
            "67/68 [============================>.] - ETA: 0s - loss: 0.3917 - accuracy: 0.8373WARNING:tensorflow:Can save best model only with val_acc available, skipping.\n",
            "WARNING:tensorflow:Reduce LR on plateau conditioned on metric `val_acc` which is not available. Available metrics are: loss,accuracy,val_loss,val_accuracy,lr\n",
            "68/68 [==============================] - 2s 25ms/step - loss: 0.3878 - accuracy: 0.8397 - val_loss: 0.5003 - val_accuracy: 0.7667 - lr: 1.0000e-04\n",
            "Epoch 79/100\n",
            "68/68 [==============================] - ETA: 0s - loss: 0.4172 - accuracy: 0.8221WARNING:tensorflow:Can save best model only with val_acc available, skipping.\n",
            "WARNING:tensorflow:Reduce LR on plateau conditioned on metric `val_acc` which is not available. Available metrics are: loss,accuracy,val_loss,val_accuracy,lr\n",
            "68/68 [==============================] - 2s 25ms/step - loss: 0.4172 - accuracy: 0.8221 - val_loss: 0.5006 - val_accuracy: 0.7833 - lr: 1.0000e-04\n",
            "Epoch 80/100\n",
            "66/68 [============================>.] - ETA: 0s - loss: 0.3912 - accuracy: 0.8212WARNING:tensorflow:Can save best model only with val_acc available, skipping.\n",
            "WARNING:tensorflow:Reduce LR on plateau conditioned on metric `val_acc` which is not available. Available metrics are: loss,accuracy,val_loss,val_accuracy,lr\n",
            "68/68 [==============================] - 2s 25ms/step - loss: 0.3883 - accuracy: 0.8221 - val_loss: 0.4749 - val_accuracy: 0.7667 - lr: 1.0000e-04\n",
            "Epoch 81/100\n",
            "66/68 [============================>.] - ETA: 0s - loss: 0.3871 - accuracy: 0.8227WARNING:tensorflow:Can save best model only with val_acc available, skipping.\n",
            "WARNING:tensorflow:Reduce LR on plateau conditioned on metric `val_acc` which is not available. Available metrics are: loss,accuracy,val_loss,val_accuracy,lr\n",
            "68/68 [==============================] - 2s 25ms/step - loss: 0.3863 - accuracy: 0.8221 - val_loss: 0.5288 - val_accuracy: 0.7250 - lr: 1.0000e-04\n",
            "Epoch 82/100\n",
            "66/68 [============================>.] - ETA: 0s - loss: 0.4115 - accuracy: 0.8152WARNING:tensorflow:Can save best model only with val_acc available, skipping.\n",
            "WARNING:tensorflow:Reduce LR on plateau conditioned on metric `val_acc` which is not available. Available metrics are: loss,accuracy,val_loss,val_accuracy,lr\n",
            "68/68 [==============================] - 2s 25ms/step - loss: 0.4051 - accuracy: 0.8191 - val_loss: 0.4827 - val_accuracy: 0.7917 - lr: 1.0000e-04\n",
            "Epoch 83/100\n",
            "66/68 [============================>.] - ETA: 0s - loss: 0.3407 - accuracy: 0.8485WARNING:tensorflow:Can save best model only with val_acc available, skipping.\n",
            "WARNING:tensorflow:Reduce LR on plateau conditioned on metric `val_acc` which is not available. Available metrics are: loss,accuracy,val_loss,val_accuracy,lr\n",
            "68/68 [==============================] - 2s 25ms/step - loss: 0.3391 - accuracy: 0.8471 - val_loss: 0.5624 - val_accuracy: 0.7250 - lr: 1.0000e-04\n",
            "Epoch 84/100\n",
            "68/68 [==============================] - ETA: 0s - loss: 0.4110 - accuracy: 0.8074WARNING:tensorflow:Can save best model only with val_acc available, skipping.\n",
            "WARNING:tensorflow:Reduce LR on plateau conditioned on metric `val_acc` which is not available. Available metrics are: loss,accuracy,val_loss,val_accuracy,lr\n",
            "68/68 [==============================] - 2s 26ms/step - loss: 0.4110 - accuracy: 0.8074 - val_loss: 0.4972 - val_accuracy: 0.7750 - lr: 1.0000e-04\n",
            "Epoch 85/100\n",
            "68/68 [==============================] - ETA: 0s - loss: 0.3935 - accuracy: 0.8132WARNING:tensorflow:Can save best model only with val_acc available, skipping.\n",
            "WARNING:tensorflow:Reduce LR on plateau conditioned on metric `val_acc` which is not available. Available metrics are: loss,accuracy,val_loss,val_accuracy,lr\n",
            "68/68 [==============================] - 2s 25ms/step - loss: 0.3935 - accuracy: 0.8132 - val_loss: 0.4822 - val_accuracy: 0.7667 - lr: 1.0000e-04\n",
            "Epoch 86/100\n",
            "66/68 [============================>.] - ETA: 0s - loss: 0.3398 - accuracy: 0.8455WARNING:tensorflow:Can save best model only with val_acc available, skipping.\n",
            "WARNING:tensorflow:Reduce LR on plateau conditioned on metric `val_acc` which is not available. Available metrics are: loss,accuracy,val_loss,val_accuracy,lr\n",
            "68/68 [==============================] - 2s 26ms/step - loss: 0.3386 - accuracy: 0.8471 - val_loss: 0.5229 - val_accuracy: 0.7667 - lr: 1.0000e-04\n",
            "Epoch 87/100\n",
            "67/68 [============================>.] - ETA: 0s - loss: 0.3958 - accuracy: 0.8209WARNING:tensorflow:Can save best model only with val_acc available, skipping.\n",
            "WARNING:tensorflow:Reduce LR on plateau conditioned on metric `val_acc` which is not available. Available metrics are: loss,accuracy,val_loss,val_accuracy,lr\n",
            "68/68 [==============================] - 2s 26ms/step - loss: 0.3927 - accuracy: 0.8235 - val_loss: 0.4800 - val_accuracy: 0.7833 - lr: 1.0000e-04\n",
            "Epoch 88/100\n",
            "67/68 [============================>.] - ETA: 0s - loss: 0.3629 - accuracy: 0.8313WARNING:tensorflow:Can save best model only with val_acc available, skipping.\n",
            "WARNING:tensorflow:Reduce LR on plateau conditioned on metric `val_acc` which is not available. Available metrics are: loss,accuracy,val_loss,val_accuracy,lr\n",
            "68/68 [==============================] - 2s 25ms/step - loss: 0.3609 - accuracy: 0.8324 - val_loss: 0.6507 - val_accuracy: 0.7000 - lr: 1.0000e-04\n",
            "Epoch 89/100\n",
            "68/68 [==============================] - ETA: 0s - loss: 0.3985 - accuracy: 0.8147WARNING:tensorflow:Can save best model only with val_acc available, skipping.\n",
            "WARNING:tensorflow:Reduce LR on plateau conditioned on metric `val_acc` which is not available. Available metrics are: loss,accuracy,val_loss,val_accuracy,lr\n",
            "68/68 [==============================] - 2s 26ms/step - loss: 0.3985 - accuracy: 0.8147 - val_loss: 0.4061 - val_accuracy: 0.8250 - lr: 1.0000e-04\n",
            "Epoch 90/100\n",
            "68/68 [==============================] - ETA: 0s - loss: 0.4057 - accuracy: 0.8191WARNING:tensorflow:Can save best model only with val_acc available, skipping.\n",
            "WARNING:tensorflow:Reduce LR on plateau conditioned on metric `val_acc` which is not available. Available metrics are: loss,accuracy,val_loss,val_accuracy,lr\n",
            "68/68 [==============================] - 2s 25ms/step - loss: 0.4057 - accuracy: 0.8191 - val_loss: 0.4218 - val_accuracy: 0.8333 - lr: 1.0000e-04\n",
            "Epoch 91/100\n",
            "66/68 [============================>.] - ETA: 0s - loss: 0.3876 - accuracy: 0.8212WARNING:tensorflow:Can save best model only with val_acc available, skipping.\n",
            "WARNING:tensorflow:Reduce LR on plateau conditioned on metric `val_acc` which is not available. Available metrics are: loss,accuracy,val_loss,val_accuracy,lr\n",
            "68/68 [==============================] - 2s 25ms/step - loss: 0.3823 - accuracy: 0.8235 - val_loss: 0.5242 - val_accuracy: 0.7167 - lr: 1.0000e-04\n",
            "Epoch 92/100\n",
            "67/68 [============================>.] - ETA: 0s - loss: 0.3739 - accuracy: 0.8328WARNING:tensorflow:Can save best model only with val_acc available, skipping.\n",
            "WARNING:tensorflow:Reduce LR on plateau conditioned on metric `val_acc` which is not available. Available metrics are: loss,accuracy,val_loss,val_accuracy,lr\n",
            "68/68 [==============================] - 2s 25ms/step - loss: 0.3785 - accuracy: 0.8309 - val_loss: 0.5623 - val_accuracy: 0.7500 - lr: 1.0000e-04\n",
            "Epoch 93/100\n",
            "66/68 [============================>.] - ETA: 0s - loss: 0.3854 - accuracy: 0.8152WARNING:tensorflow:Can save best model only with val_acc available, skipping.\n",
            "WARNING:tensorflow:Reduce LR on plateau conditioned on metric `val_acc` which is not available. Available metrics are: loss,accuracy,val_loss,val_accuracy,lr\n",
            "68/68 [==============================] - 2s 26ms/step - loss: 0.3933 - accuracy: 0.8132 - val_loss: 0.4412 - val_accuracy: 0.8000 - lr: 1.0000e-04\n",
            "Epoch 94/100\n",
            "68/68 [==============================] - ETA: 0s - loss: 0.3838 - accuracy: 0.8235WARNING:tensorflow:Can save best model only with val_acc available, skipping.\n",
            "WARNING:tensorflow:Reduce LR on plateau conditioned on metric `val_acc` which is not available. Available metrics are: loss,accuracy,val_loss,val_accuracy,lr\n",
            "68/68 [==============================] - 2s 25ms/step - loss: 0.3838 - accuracy: 0.8235 - val_loss: 0.5244 - val_accuracy: 0.7500 - lr: 1.0000e-04\n",
            "Epoch 95/100\n",
            "67/68 [============================>.] - ETA: 0s - loss: 0.3749 - accuracy: 0.8104WARNING:tensorflow:Can save best model only with val_acc available, skipping.\n",
            "WARNING:tensorflow:Reduce LR on plateau conditioned on metric `val_acc` which is not available. Available metrics are: loss,accuracy,val_loss,val_accuracy,lr\n",
            "68/68 [==============================] - 2s 26ms/step - loss: 0.3773 - accuracy: 0.8103 - val_loss: 0.5099 - val_accuracy: 0.7667 - lr: 1.0000e-04\n",
            "Epoch 96/100\n",
            "68/68 [==============================] - ETA: 0s - loss: 0.3467 - accuracy: 0.8559WARNING:tensorflow:Can save best model only with val_acc available, skipping.\n",
            "WARNING:tensorflow:Reduce LR on plateau conditioned on metric `val_acc` which is not available. Available metrics are: loss,accuracy,val_loss,val_accuracy,lr\n",
            "68/68 [==============================] - 2s 26ms/step - loss: 0.3467 - accuracy: 0.8559 - val_loss: 0.4746 - val_accuracy: 0.7917 - lr: 1.0000e-04\n",
            "Epoch 97/100\n",
            "67/68 [============================>.] - ETA: 0s - loss: 0.3726 - accuracy: 0.8328WARNING:tensorflow:Can save best model only with val_acc available, skipping.\n",
            "WARNING:tensorflow:Reduce LR on plateau conditioned on metric `val_acc` which is not available. Available metrics are: loss,accuracy,val_loss,val_accuracy,lr\n",
            "68/68 [==============================] - 2s 25ms/step - loss: 0.3727 - accuracy: 0.8338 - val_loss: 0.4791 - val_accuracy: 0.7750 - lr: 1.0000e-04\n",
            "Epoch 98/100\n",
            "68/68 [==============================] - ETA: 0s - loss: 0.3707 - accuracy: 0.8368WARNING:tensorflow:Can save best model only with val_acc available, skipping.\n",
            "WARNING:tensorflow:Reduce LR on plateau conditioned on metric `val_acc` which is not available. Available metrics are: loss,accuracy,val_loss,val_accuracy,lr\n",
            "68/68 [==============================] - 2s 25ms/step - loss: 0.3707 - accuracy: 0.8368 - val_loss: 0.4399 - val_accuracy: 0.7917 - lr: 1.0000e-04\n",
            "Epoch 99/100\n",
            "67/68 [============================>.] - ETA: 0s - loss: 0.3614 - accuracy: 0.8403WARNING:tensorflow:Can save best model only with val_acc available, skipping.\n",
            "WARNING:tensorflow:Reduce LR on plateau conditioned on metric `val_acc` which is not available. Available metrics are: loss,accuracy,val_loss,val_accuracy,lr\n",
            "68/68 [==============================] - 2s 25ms/step - loss: 0.3574 - accuracy: 0.8426 - val_loss: 0.5423 - val_accuracy: 0.7500 - lr: 1.0000e-04\n",
            "Epoch 100/100\n",
            "66/68 [============================>.] - ETA: 0s - loss: 0.3067 - accuracy: 0.8545WARNING:tensorflow:Can save best model only with val_acc available, skipping.\n",
            "WARNING:tensorflow:Reduce LR on plateau conditioned on metric `val_acc` which is not available. Available metrics are: loss,accuracy,val_loss,val_accuracy,lr\n",
            "68/68 [==============================] - 2s 27ms/step - loss: 0.3095 - accuracy: 0.8515 - val_loss: 0.4169 - val_accuracy: 0.8167 - lr: 1.0000e-04\n"
          ],
          "name": "stdout"
        }
      ]
    },
    {
      "cell_type": "code",
      "metadata": {
        "id": "7k_H8XZPCWdh",
        "colab_type": "code",
        "colab": {
          "base_uri": "https://localhost:8080/",
          "height": 35
        },
        "outputId": "3212ead7-b9bd-4230-8eda-6b60736bd614"
      },
      "source": [
        "model.metrics_names"
      ],
      "execution_count": 114,
      "outputs": [
        {
          "output_type": "execute_result",
          "data": {
            "text/plain": [
              "['loss', 'accuracy']"
            ]
          },
          "metadata": {
            "tags": []
          },
          "execution_count": 114
        }
      ]
    },
    {
      "cell_type": "code",
      "metadata": {
        "id": "KI8T3xMwEeo9",
        "colab_type": "code",
        "colab": {
          "base_uri": "https://localhost:8080/",
          "height": 295
        },
        "outputId": "b3f770b6-6224-4d35-a5f4-0006ba5e9215"
      },
      "source": [
        "plt.plot(history.history['loss'])\n",
        "plt.plot(history.history['val_loss'])\n",
        "plt.title('model loss')\n",
        "plt.ylabel('loss')\n",
        "plt.xlabel('epoch')\n",
        "plt.legend(['train', 'val'], loc='upper left')\n",
        "plt.show()"
      ],
      "execution_count": 124,
      "outputs": [
        {
          "output_type": "display_data",
          "data": {
            "image/png": "[encoded data removed]",
            "text/plain": [
              "<Figure size 432x288 with 1 Axes>"
            ]
          },
          "metadata": {
            "tags": [],
            "needs_background": "light"
          }
        }
      ]
    },
    {
      "cell_type": "code",
      "metadata": {
        "id": "2R86jJvmDgYL",
        "colab_type": "code",
        "colab": {
          "base_uri": "https://localhost:8080/",
          "height": 295
        },
        "outputId": "caeac557-4cb1-4407-e70b-281338506364"
      },
      "source": [
        "plt.plot(history.history['accuracy'])\n",
        "plt.plot(history.history['val_accuracy'])\n",
        "plt.title('model accuracy')\n",
        "plt.ylabel('accuracy')\n",
        "plt.xlabel('epoch')\n",
        "plt.legend(['train', 'val'], loc='upper left')\n",
        "plt.show()"
      ],
      "execution_count": 123,
      "outputs": [
        {
          "output_type": "display_data",
          "data": {
            "image/png": "[encoded data removed]",
            "text/plain": [
              "<Figure size 432x288 with 1 Axes>"
            ]
          },
          "metadata": {
            "tags": [],
            "needs_background": "light"
          }
        }
      ]
    },
    {
      "cell_type": "code",
      "metadata": {
        "id": "B6oYJWoCCe7y",
        "colab_type": "code",
        "colab": {}
      },
      "source": [
        "model.save(\"/content/gdirve/My Drive/Kaggle/model.h5\")\n"
      ],
      "execution_count": 0,
      "outputs": []
    },
    {
      "cell_type": "code",
      "metadata": {
        "id": "Qku2FNWEDGb-",
        "colab_type": "code",
        "colab": {}
      },
      "source": [
        "!tensorflowjs_converter --input_format keras model.h5 tfjs/model"
      ],
      "execution_count": 0,
      "outputs": []
    },
    {
      "cell_type": "code",
      "metadata": {
        "id": "DSRBKzqLD46s",
        "colab_type": "code",
        "colab": {}
      },
      "source": [
        ""
      ],
      "execution_count": 0,
      "outputs": []
    }
  ]
}